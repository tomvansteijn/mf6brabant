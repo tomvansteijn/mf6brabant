{
 "cells": [
  {
   "cell_type": "code",
   "execution_count": null,
   "metadata": {},
   "outputs": [],
   "source": [
    "%matplotlib inline\n",
    "## imports\n",
    "\n",
    "# site\n",
    "from scipy.ndimage.morphology import binary_erosion\n",
    "from matplotlib import pyplot as plt\n",
    "import pandas as pd\n",
    "import numpy as np\n",
    "import rasterio\n",
    "import flopy\n",
    "\n",
    "# std\n",
    "from pathlib import Path\n",
    "import datetime\n",
    "import yaml"
   ]
  },
  {
   "cell_type": "code",
   "execution_count": null,
   "metadata": {},
   "outputs": [],
   "source": [
    "def read_array(rasterfile, masked=True,  band=1):\n",
    "    with rasterio.open(rasterfile) as src:\n",
    "        return src.read(band, masked=masked)"
   ]
  },
  {
   "cell_type": "code",
   "execution_count": null,
   "metadata": {},
   "outputs": [],
   "source": [
    "def read_profile(rasterfile):\n",
    "    with rasterio.open(rasterfile) as src:\n",
    "        return src.profile"
   ]
  },
  {
   "cell_type": "code",
   "execution_count": null,
   "metadata": {},
   "outputs": [],
   "source": [
    "def write_array(rasterfile, values, profile):\n",
    "    with rasterio.open(rasterfile, 'w', **profile) as dst:\n",
    "        return dst.write(values, 1)"
   ]
  },
  {
   "cell_type": "code",
   "execution_count": null,
   "metadata": {},
   "outputs": [],
   "source": [
    "def read_3d_array(rasterfiles, stack_axis=0, masked=True):\n",
    "    arrays = []\n",
    "    for rasterfile in rasterfiles:\n",
    "        arrays.append(read_array(rasterfile, masked=masked))\n",
    "    return np.ma.stack(arrays, axis=stack_axis)"
   ]
  },
  {
   "cell_type": "code",
   "execution_count": null,
   "metadata": {},
   "outputs": [],
   "source": [
    "def save_int(datfile, array):\n",
    "    save_array(datfile, array, fmt='%i', delimiter=' ')\n"
   ]
  },
  {
   "cell_type": "code",
   "execution_count": null,
   "metadata": {},
   "outputs": [],
   "source": [
    "def save_float(datfile, array):\n",
    "    save_array(datfile, array, fmt='%15.6E')"
   ]
  },
  {
   "cell_type": "code",
   "execution_count": null,
   "metadata": {},
   "outputs": [],
   "source": [
    "def save_array(datfile, array, fmt, delimiter=''):\n",
    "    np.savetxt(datfile, array, fmt=fmt, delimiter=delimiter)"
   ]
  },
  {
   "cell_type": "code",
   "execution_count": null,
   "metadata": {},
   "outputs": [],
   "source": [
    "t0 = datetime.datetime.now()"
   ]
  },
  {
   "cell_type": "code",
   "execution_count": null,
   "metadata": {},
   "outputs": [],
   "source": [
    "## input\n",
    "# name\n",
    "name = 'mf6brabant_ext'\n",
    "\n",
    "# workspace\n",
    "workspace = Path(r'..\\output\\mf6brabant_using_external_files')\n",
    "\n",
    "# exe name\n",
    "exe_name = Path(r'..\\bin\\mf6.0.3\\bin\\mf6.exe')\n",
    "\n",
    "# spatial reference\n",
    "xllcorner = 60_000.\n",
    "yllcorner = 322_500.\n",
    "\n",
    "# grid dimensions\n",
    "nlay = 19\n",
    "nrow = 450\n",
    "ncol = 601\n",
    "delr = 250.\n",
    "delc = 250.\n",
    "\n",
    "# data files\n",
    "topfile = Path(r'..\\data\\topbot\\RL{ilay:d}.tif')\n",
    "botfile = Path(r'..\\data\\topbot\\TH{ilay:d}.tif')\n",
    "idomainfile = Path(r'..\\data\\boundary\\ibound.tif')\n",
    "               \n",
    "kdfile = Path(r'..\\data\\kdc\\TX{ilay:d}.tif')\n",
    "cfile = Path(r'..\\data\\kdc\\CL{ilay:d}.tif')\n",
    "             \n",
    "startfile = Path(r'..\\data\\startingheads\\HH{ilay:d}.tif')\n",
    "\n",
    "rechargefile = Path(r'..\\data\\recharge\\RP1.tif')\n",
    "\n",
    "drn2005file = Path(r'..\\data\\mf2005\\drn_data.csv')\n",
    "ghb2005file = Path(r'..\\data\\mf2005\\ghb_data.csv')\n",
    "riv2005file = Path(r'..\\data\\mf2005\\riv_data.csv')\n",
    "\n",
    "sqfile = Path(r'..\\data\\wells\\sq_list.csv')"
   ]
  },
  {
   "cell_type": "code",
   "execution_count": null,
   "metadata": {},
   "outputs": [],
   "source": [
    "# create workspace directory\n",
    "workspace.mkdir(exist_ok=True)"
   ]
  },
  {
   "cell_type": "code",
   "execution_count": null,
   "metadata": {},
   "outputs": [],
   "source": [
    "# create data directory\n",
    "datafolder = workspace / 'data'\n",
    "datafolder.mkdir(exist_ok=True)"
   ]
  },
  {
   "cell_type": "code",
   "execution_count": null,
   "metadata": {},
   "outputs": [],
   "source": [
    "# Create the Flopy simulation object\n",
    "sim = flopy.mf6.MFSimulation(\n",
    "    sim_name=name,\n",
    "    exe_name=str(exe_name), \n",
    "    version='mf6',\n",
    "    sim_ws=str(workspace))\n",
    "\n",
    "# Create the Flopy temporal discretization object\n",
    "tdis = flopy.mf6.modflow.mftdis.ModflowTdis(sim,\n",
    "    pname='tdis',\n",
    "    time_units='DAYS',\n",
    "    nper=1, \n",
    "    perioddata=[(1.0, 1, 1.0)],\n",
    "    )\n",
    "\n",
    "# Create the Flopy groundwater flow (gwf) model object\n",
    "model_nam_file = '{}.nam'.format(name)\n",
    "gwf = flopy.mf6.ModflowGwf(sim,\n",
    "    modelname=name, \n",
    "    model_nam_file=model_nam_file,\n",
    "    save_flows=True,\n",
    "    )"
   ]
  },
  {
   "cell_type": "code",
   "execution_count": null,
   "metadata": {},
   "outputs": [],
   "source": [
    "# read tops\n",
    "topfiles = (topfile.parent / topfile.name.format(ilay=i + 1) for i in range(nlay))\n",
    "\n",
    "tops = read_3d_array(topfiles)\n",
    "\n",
    "# mask bad nodata values\n",
    "tops = np.ma.masked_where(tops.mask | (tops < -9990.), tops)"
   ]
  },
  {
   "cell_type": "code",
   "execution_count": null,
   "metadata": {},
   "outputs": [],
   "source": [
    "# read bots\n",
    "botfiles = (botfile.parent / botfile.name.format(ilay=i + 1) for i in range(nlay))\n",
    "\n",
    "bots = read_3d_array(botfiles)\n",
    "\n",
    "# mask bad nodata values\n",
    "bots = np.ma.masked_where(bots.mask | (bots < -9990.), bots)"
   ]
  },
  {
   "cell_type": "code",
   "execution_count": null,
   "metadata": {},
   "outputs": [],
   "source": [
    "# convert to top, botm\n",
    "top = tops[0, :, :].filled(0.)\n",
    "topdatfile = datafolder / 'top.dat'\n",
    "save_float(topdatfile, top)\n",
    "top_ext = {'filename': str(topdatfile.relative_to(workspace))}\n",
    "botm_ext = []\n",
    "for ilay in range(nlay):\n",
    "    botm = bots[ilay, :, :].filled((2*ilay + 1) * -1e-3)\n",
    "    botmdatfile = datafolder / 'botm_l{ilay:02d}.dat'.format(ilay=ilay*2 + 1)\n",
    "    save_float(botmdatfile, botm)\n",
    "    botm_ext.append({'filename': str(botmdatfile.relative_to(workspace))})\n",
    "    if (ilay + 1) < nlay:\n",
    "        botm = tops[ilay + 1, :, :].filled((2*ilay + 2) * -1e-3)\n",
    "        botmdatfile = datafolder / 'botm_l{ilay:02d}.dat'.format(ilay=ilay*2 + 2)\n",
    "        save_float(botmdatfile, botm)\n",
    "        botm_ext.append({'filename': str(botmdatfile.relative_to(workspace))})"
   ]
  },
  {
   "cell_type": "code",
   "execution_count": null,
   "metadata": {},
   "outputs": [],
   "source": [
    "# read idomain\n",
    "idomain = read_array(idomainfile).filled(0.).astype(np.int)\n",
    "idomaindatfile = datafolder / 'idomain.dat'\n",
    "save_int(idomaindatfile, idomain)\n",
    "idomain_ext = [{'filename': str(idomaindatfile.relative_to(workspace))} for i in range(nlay*2 - 1)]"
   ]
  },
  {
   "cell_type": "code",
   "execution_count": null,
   "metadata": {},
   "outputs": [],
   "source": [
    "# initialize the DIS package\n",
    "dis = flopy.mf6.modflow.mfgwfdis.ModflowGwfdis(gwf,\n",
    "    pname='dis', nlay=(nlay*2 - 1),\n",
    "    nrow=nrow, ncol=ncol,\n",
    "    delr=delr, delc=delc,\n",
    "    top=top_ext, botm=botm_ext,\n",
    "    idomain=idomain_ext,\n",
    "    length_units='METERS',\n",
    "    )"
   ]
  },
  {
   "cell_type": "code",
   "execution_count": null,
   "metadata": {},
   "outputs": [],
   "source": [
    "# read kD\n",
    "kdfiles = (kdfile.parent / kdfile.name.format(ilay=i + 1) for i in range(nlay))\n",
    "kd = read_3d_array(kdfiles)\n",
    "\n",
    "# convert to kh\n",
    "kh = (kd / (tops - bots))\n",
    "\n",
    "# fill with low value\n",
    "kh = kh.filled(1e-6)\n",
    "\n",
    "# write to file\n",
    "kh_ext = []\n",
    "for ilay in range(nlay):\n",
    "    khdatfile = datafolder / 'kh_l{ilay:02d}.dat'.format(ilay=ilay*2 + 1)\n",
    "    save_float(khdatfile, kh[ilay, :, :])\n",
    "    kh_ext.append(\n",
    "        {'filename': str(khdatfile.relative_to(workspace))},\n",
    "        )\n",
    "    if (ilay + 1) < nlay:\n",
    "        # dummy values\n",
    "        kh_ext.append(1e-6)"
   ]
  },
  {
   "cell_type": "code",
   "execution_count": null,
   "metadata": {},
   "outputs": [],
   "source": [
    "# read c\n",
    "cfiles = (cfile.parent / cfile.name.format(ilay=i + 1) for i in range(nlay - 1))\n",
    "c = read_3d_array(cfiles)\n",
    "\n",
    "# convert to kv\n",
    "kv = (bots[:-1, :, :] - tops[1:, :, :]) / c\n",
    "\n",
    "# fill with high value\n",
    "kv = kv.filled(1e6)\n",
    "\n",
    "# write to file\n",
    "kv_ext = []\n",
    "for ilay in range(nlay):\n",
    "    # dummy values\n",
    "    kv_ext.append(1e6)\n",
    "    if (ilay + 1) < nlay:\n",
    "        kvdatfile = datafolder / 'kv_l{ilay:02d}.dat'.format(ilay=ilay*2 + 2)\n",
    "        save_float(kvdatfile, kv[ilay, :, :])\n",
    "        kv_ext.append(\n",
    "            {'filename': str(kvdatfile.relative_to(workspace))},\n",
    "            )"
   ]
  },
  {
   "cell_type": "code",
   "execution_count": null,
   "metadata": {},
   "outputs": [],
   "source": [
    "# initialize the NPF package\n",
    "npf = flopy.mf6.modflow.mfgwfnpf.ModflowGwfnpf(\n",
    "    model=gwf,\n",
    "    k=kh_ext,\n",
    "    k22=kh_ext,\n",
    "    k33=kv_ext,\n",
    ")"
   ]
  },
  {
   "cell_type": "code",
   "execution_count": null,
   "metadata": {},
   "outputs": [],
   "source": [
    "# read start\n",
    "startfiles = (startfile.parent / startfile.name.format(ilay=i + 1) for i in range(nlay))\n",
    "start = read_3d_array(startfiles)\n",
    "\n",
    "# mask values larger than 1000\n",
    "start = np.ma.masked_where(start.mask | (start > 1e3), start)\n",
    "\n",
    "# fill masked with zeros\n",
    "start = start.filled(0.)\n",
    "\n",
    "start_ext = []\n",
    "for ilay in range(nlay):\n",
    "    startdatfile = datafolder / 'start_l{ilay:02d}.dat'.format(ilay=ilay*2 + 1)\n",
    "    save_float(startdatfile, start[ilay, :, :])\n",
    "    start_ext.append(\n",
    "        {'filename': str(startdatfile.relative_to(workspace))},\n",
    "        )\n",
    "    if (ilay + 1) < nlay:\n",
    "        start_ext.append(\n",
    "            {'filename': str(startdatfile.relative_to(workspace))},\n",
    "            )"
   ]
  },
  {
   "cell_type": "code",
   "execution_count": null,
   "metadata": {},
   "outputs": [],
   "source": [
    "# Create the initial conditions package\n",
    "ic = flopy.mf6.modflow.mfgwfic.ModflowGwfic(gwf, pname='ic', strt=start_ext)"
   ]
  },
  {
   "cell_type": "code",
   "execution_count": null,
   "metadata": {
    "scrolled": true
   },
   "outputs": [],
   "source": [
    "# get boundary data from idomain and starting heads\n",
    "structure = np.ones((3, 3))\n",
    "isboundary = (idomain == 1) & ~binary_erosion(idomain, structure)\n",
    "chd_data = []\n",
    "for ilay in range(dis.nlay.get_data()):    \n",
    "    for row, col in np.ndindex(*isboundary.shape):\n",
    "        if isboundary[row, col]:\n",
    "            chd_data.append((ilay + 1, row + 1, col + 1, start[ilay//2, row, col]))\n",
    "chd_data = np.array(\n",
    "    chd_data,\n",
    "    dtype=[('ilay', np.int), ('row', np.int), ('col', np.int), ('value', np.float)]\n",
    "    )\n",
    "chddatfile = datafolder / 'chd.dat'\n",
    "save_array(chddatfile, chd_data, fmt='  %i %i %i %16.8f')\n",
    "chd_ext = {0: {\n",
    "    'filename': str(chddatfile.relative_to(workspace)),\n",
    "    }}"
   ]
  },
  {
   "cell_type": "code",
   "execution_count": null,
   "metadata": {},
   "outputs": [],
   "source": [
    "# initialize the CHD package\n",
    "chd = flopy.mf6.modflow.mfgwfchd.ModflowGwfchd(gwf,\n",
    "    pname='chd',\n",
    "    maxbound=len(chd_data),\n",
    "    stress_period_data=chd_ext,\n",
    "    )"
   ]
  },
  {
   "cell_type": "code",
   "execution_count": null,
   "metadata": {},
   "outputs": [],
   "source": [
    "# recharge\n",
    "recharge = read_array(rechargefile).filled(0.)\n",
    "rechargedatfile = datafolder / 'recharge.dat'\n",
    "save_float(rechargedatfile, recharge)\n",
    "recharge_ext = [{'filename': str(rechargedatfile.relative_to(workspace))}]"
   ]
  },
  {
   "cell_type": "code",
   "execution_count": null,
   "metadata": {},
   "outputs": [],
   "source": [
    "# initialize the RCH package\n",
    "rch = flopy.mf6.ModflowGwfrcha(gwf, pname='rch', recharge=recharge_ext)"
   ]
  },
  {
   "cell_type": "code",
   "execution_count": null,
   "metadata": {},
   "outputs": [],
   "source": [
    "# DRN stress period data from Modflow 2005\n",
    "drn2005_data = pd.read_csv(drn2005file)\n",
    "\n",
    "# select active cells\n",
    "is_active = (idomain == 1)[drn2005_data.loc[:, 'i'], drn2005_data.loc[:, 'j']]\n",
    "\n",
    "\n",
    "drn_data = drn2005_data.loc[is_active, ['k', 'i', 'j', 'elev0', 'cond0']]\n",
    "drn_data.loc[:, 'k'] *= 2\n",
    "drn_data.loc[:, ['k', 'i', 'j']] += 1\n",
    "\n",
    "drndatfile = datafolder / 'drn.dat'\n",
    "save_array(drndatfile, drn_data.values, fmt='  %i %i %i %16.8f %16.8f')\n",
    "drn_ext = {0: {\n",
    "    'filename': str(drndatfile.relative_to(workspace)),\n",
    "    }}\n",
    "\n",
    "# initialize the DRN package\n",
    "drn = flopy.mf6.modflow.mfgwfdrn.ModflowGwfdrn(gwf,\n",
    "    pname='drn',\n",
    "    maxbound=drn_data.shape[0],\n",
    "    stress_period_data=drn_ext,\n",
    "    )"
   ]
  },
  {
   "cell_type": "code",
   "execution_count": null,
   "metadata": {},
   "outputs": [],
   "source": [
    "# GHB stress period data from Modflow 2005\n",
    "ghb2005_data = pd.read_csv(ghb2005file)\n",
    "\n",
    "# select active cells\n",
    "is_active = (idomain == 1)[ghb2005_data.loc[:, 'i'], ghb2005_data.loc[:, 'j']]\n",
    "\n",
    "\n",
    "ghb_data = ghb2005_data.loc[is_active, ['k', 'i', 'j', 'bhead0', 'cond0']]\n",
    "ghb_data.loc[:, 'k'] *= 2\n",
    "ghb_data.loc[:, ['k', 'i', 'j']] += 1\n",
    "\n",
    "ghbdatfile = datafolder / 'ghb.dat'\n",
    "save_array(ghbdatfile, ghb_data.values, fmt='  %i %i %i %16.8f %16.8f')\n",
    "ghb_ext = {0: {\n",
    "    'filename': str(ghbdatfile.relative_to(workspace)),\n",
    "    }}\n",
    "\n",
    "# initialize the GHB package\n",
    "ghb = flopy.mf6.modflow.mfgwfghb.ModflowGwfghb(gwf,\n",
    "    pname='ghb',\n",
    "    maxbound=ghb_data.shape[0],\n",
    "    stress_period_data=ghb_ext,\n",
    "    )"
   ]
  },
  {
   "cell_type": "code",
   "execution_count": null,
   "metadata": {},
   "outputs": [],
   "source": [
    "# RIV stress period data from Modflow 2005\n",
    "riv2005_data = pd.read_csv(riv2005file)\n",
    "\n",
    "# select active cells\n",
    "is_active = (idomain == 1)[riv2005_data.loc[:, 'i'], riv2005_data.loc[:, 'j']]\n",
    "\n",
    "\n",
    "riv_data = riv2005_data.loc[is_active, ['k', 'i', 'j', 'stage0', 'cond0', 'rbot0']]\n",
    "riv_data.loc[:, 'k'] *= 2\n",
    "riv_data.loc[:, ['k', 'i', 'j']] += 1\n",
    "\n",
    "rivdatfile = datafolder / 'riv.dat'\n",
    "save_array(rivdatfile, riv_data.values, fmt='  %i %i %i %16.8f %16.8f %16.8f')\n",
    "riv_ext = {0: {\n",
    "    'filename': str(rivdatfile.relative_to(workspace)),\n",
    "    }}\n",
    "\n",
    "# initialize the RIV package\n",
    "riv = flopy.mf6.modflow.mfgwfriv.ModflowGwfriv(gwf,\n",
    "    pname='riv',\n",
    "    maxbound=riv_data.shape[0],\n",
    "    stress_period_data=riv_ext,\n",
    "    )"
   ]
  },
  {
   "cell_type": "code",
   "execution_count": null,
   "metadata": {},
   "outputs": [],
   "source": [
    "# read sources data from csv file\n",
    "sqs = pd.read_csv(sqfile)\n",
    "\n",
    "# to row,col from x,y\n",
    "fwd = rasterio.transform.from_origin(xllcorner, yllcorner + nrow*delr, delc, delr)\n",
    "\n",
    "# transform xy to row,col\n",
    "sqs.loc[:, 'row'], sqs.loc[:, 'col'] = (\n",
    "    rasterio.transform.rowcol(fwd, sqs['xcoordinate'], sqs['ycoordinate'])\n",
    "    )\n",
    "\n",
    "# select active cells\n",
    "is_active = (idomain == 1)[sqs.loc[:, 'row'], sqs.loc[:, 'col']]\n",
    "\n",
    "# layer numbers & pumping rates\n",
    "wel_data = sqs.loc[is_active, ['ilay', 'row', 'col', 'q_assigned']]\n",
    "wel_data.loc[:, 'ilay'] = wel_data.loc[:, 'ilay'] * 2 - 1\n",
    "wel_data.loc[:, ['row', 'col']] += 1\n",
    "\n",
    "weldatfile = datafolder / 'wel.dat'\n",
    "save_array(weldatfile, wel_data.values, fmt='  %i %i %i %16.8f')\n",
    "wel_ext = {0: {\n",
    "    'filename': str(weldatfile.relative_to(workspace)),\n",
    "    }}"
   ]
  },
  {
   "cell_type": "code",
   "execution_count": null,
   "metadata": {},
   "outputs": [],
   "source": [
    "# initialize WEL package\n",
    "wel = flopy.mf6.modflow.mfgwfwel.ModflowGwfwel(gwf,\n",
    "    pname='wel',\n",
    "    maxbound=len(wel_data),\n",
    "    stress_period_data=wel_ext,\n",
    "    )"
   ]
  },
  {
   "cell_type": "code",
   "execution_count": null,
   "metadata": {},
   "outputs": [],
   "source": [
    "# Create the Flopy iterative model solver (ims) Package object\n",
    "ims = flopy.mf6.modflow.mfims.ModflowIms(sim, pname='ims', complexity='SIMPLE')"
   ]
  },
  {
   "cell_type": "code",
   "execution_count": null,
   "metadata": {},
   "outputs": [],
   "source": [
    "# Create the output control package\n",
    "headfile = '{}.hds'.format(name)\n",
    "head_filerecord = [headfile]\n",
    "budgetfile = '{}.cbb'.format(name)\n",
    "budget_filerecord = [budgetfile]\n",
    "saverecord = [('HEAD', 'ALL'), \n",
    "              ('BUDGET', 'ALL')]\n",
    "printrecord = [('HEAD', 'LAST')]\n",
    "oc = flopy.mf6.modflow.mfgwfoc.ModflowGwfoc(gwf, pname='oc', saverecord=saverecord, \n",
    "                                            head_filerecord=head_filerecord,\n",
    "                                            budget_filerecord=budget_filerecord,\n",
    "                                            printrecord=printrecord)"
   ]
  },
  {
   "cell_type": "code",
   "execution_count": null,
   "metadata": {},
   "outputs": [],
   "source": [
    "# write simulation to new location\n",
    "sim.write_simulation()"
   ]
  },
  {
   "cell_type": "code",
   "execution_count": null,
   "metadata": {},
   "outputs": [],
   "source": [
    "# Run the simulation\n",
    "success, buff = sim.run_simulation()\n",
    "print('\\nSuccess is: ', success)"
   ]
  },
  {
   "cell_type": "code",
   "execution_count": null,
   "metadata": {},
   "outputs": [],
   "source": [
    "# read heads\n",
    "headfile = workspace / '{name:}.hds'.format(name=name)\n",
    "hds = flopy.utils.binaryfile.HeadFile(headfile)"
   ]
  },
  {
   "cell_type": "code",
   "execution_count": null,
   "metadata": {},
   "outputs": [],
   "source": [
    "# export to raster\n",
    "rasterfolder = workspace / 'heads'\n",
    "rasterfolder.mkdir(exist_ok=True)\n",
    "\n",
    "profile = read_profile(idomainfile)\n",
    "\n",
    "heads = hds.get_data()\n",
    "for i, raster in enumerate(heads[::2]):  # export only horizontal flow layers i.e. 1, 3, .. 37\n",
    "    raster[idomain < 1] = profile['nodata']  \n",
    "    rasterfile = rasterfolder / 'phi{ilay:d}.tif'.format(ilay=i + 1)\n",
    "    write_array(rasterfile, raster, profile)"
   ]
  },
  {
   "cell_type": "code",
   "execution_count": null,
   "metadata": {},
   "outputs": [],
   "source": [
    "t1 = datetime.datetime.now()\n",
    "print('notebook execution took {}'.format(t1 - t0))"
   ]
  }
 ],
 "metadata": {
  "kernelspec": {
   "display_name": "Python 3",
   "language": "python",
   "name": "python3"
  },
  "language_info": {
   "codemirror_mode": {
    "name": "ipython",
    "version": 3
   },
   "file_extension": ".py",
   "mimetype": "text/x-python",
   "name": "python",
   "nbconvert_exporter": "python",
   "pygments_lexer": "ipython3",
   "version": "3.6.5"
  }
 },
 "nbformat": 4,
 "nbformat_minor": 2
}
