{
 "cells": [
  {
   "cell_type": "code",
   "execution_count": null,
   "metadata": {},
   "outputs": [],
   "source": [
    "%matplotlib inline\n",
    "## imports\n",
    "\n",
    "# site\n",
    "from scipy.ndimage.morphology import binary_erosion\n",
    "from matplotlib import pyplot as plt\n",
    "import pandas as pd\n",
    "import numpy as np\n",
    "import rasterio\n",
    "import flopy\n",
    "\n",
    "# std\n",
    "from pathlib import Path\n",
    "import yaml"
   ]
  },
  {
   "cell_type": "code",
   "execution_count": null,
   "metadata": {},
   "outputs": [],
   "source": [
    "def read_array(rasterfile, masked=True,  band=1):\n",
    "    with rasterio.open(rasterfile) as src:\n",
    "        return src.read(band, masked=masked)"
   ]
  },
  {
   "cell_type": "code",
   "execution_count": null,
   "metadata": {},
   "outputs": [],
   "source": [
    "def read_profile(rasterfile):\n",
    "    with rasterio.open(rasterfile) as src:\n",
    "        return src.profile"
   ]
  },
  {
   "cell_type": "code",
   "execution_count": null,
   "metadata": {},
   "outputs": [],
   "source": [
    "def write_array(rasterfile, values, profile):\n",
    "    with rasterio.open(rasterfile, 'w', **profile) as dst:\n",
    "        return dst.write(values, 1)"
   ]
  },
  {
   "cell_type": "code",
   "execution_count": null,
   "metadata": {},
   "outputs": [],
   "source": [
    "def read_3d_array(rasterfiles, stack_axis=0, masked=True):\n",
    "    arrays = []\n",
    "    for rasterfile in rasterfiles:\n",
    "        arrays.append(read_array(rasterfile, masked=masked))\n",
    "    return np.ma.stack(arrays, axis=stack_axis)"
   ]
  },
  {
   "cell_type": "code",
   "execution_count": null,
   "metadata": {},
   "outputs": [],
   "source": [
    "## input\n",
    "# name\n",
    "name = 'test_run'\n",
    "\n",
    "# workspace\n",
    "workspace = Path(r'..\\output\\test_run')\n",
    "\n",
    "# exe name\n",
    "exe_name = Path(r'..\\bin\\mf6.0.3\\bin\\mf6.exe')\n",
    "\n",
    "# spatial reference\n",
    "xllcorner = 60_000.\n",
    "yllcorner = 322_500.\n",
    "\n",
    "# grid dimensions\n",
    "nlay = 19\n",
    "nrow = 450\n",
    "ncol = 601\n",
    "delr = 250.\n",
    "delc = 250.\n",
    "\n",
    "# data files\n",
    "topfile = Path(r'..\\data\\topbot\\RL{ilay:d}.tif')\n",
    "botfile = Path(r'..\\data\\topbot\\TH{ilay:d}.tif')\n",
    "idomainfile = Path(r'..\\data\\boundary\\ibound.tif')\n",
    "               \n",
    "kdfile = Path(r'..\\data\\kdc\\TX{ilay:d}.tif')\n",
    "cfile = Path(r'..\\data\\kdc\\CL{ilay:d}.tif')\n",
    "             \n",
    "startfile = Path(r'..\\data\\startingheads\\HH{ilay:d}.tif')\n",
    "\n",
    "rechargefile = Path(r'..\\data\\recharge\\RP1.tif')\n",
    "\n",
    "drn2005file = Path(r'..\\data\\mf2005\\drn_data.csv')\n",
    "ghb2005file = Path(r'..\\data\\mf2005\\ghb_data.csv')\n",
    "riv2005file = Path(r'..\\data\\mf2005\\riv_data.csv')\n",
    "\n",
    "sqfile = Path(r'..\\data\\wells\\sq_list.csv')"
   ]
  },
  {
   "cell_type": "code",
   "execution_count": null,
   "metadata": {},
   "outputs": [],
   "source": [
    "# create workspace directory\n",
    "workspace.mkdir(exist_ok=True)"
   ]
  },
  {
   "cell_type": "code",
   "execution_count": null,
   "metadata": {},
   "outputs": [],
   "source": [
    "# Create the Flopy simulation object\n",
    "sim = flopy.mf6.MFSimulation(\n",
    "    sim_name=name,\n",
    "    exe_name=str(exe_name), \n",
    "    version='mf6',\n",
    "    sim_ws=str(workspace))\n",
    "\n",
    "# Create the Flopy temporal discretization object\n",
    "tdis = flopy.mf6.modflow.mftdis.ModflowTdis(sim,\n",
    "    pname='tdis',\n",
    "    time_units='DAYS',\n",
    "    nper=1, \n",
    "    perioddata=[(1.0, 1, 1.0)],\n",
    "    )\n",
    "\n",
    "# Create the Flopy groundwater flow (gwf) model object\n",
    "model_nam_file = '{}.nam'.format(name)\n",
    "gwf = flopy.mf6.ModflowGwf(sim,\n",
    "    modelname=name, \n",
    "   model_nam_file=model_nam_file,\n",
    "   )"
   ]
  },
  {
   "cell_type": "code",
   "execution_count": null,
   "metadata": {},
   "outputs": [],
   "source": [
    "# read tops\n",
    "topfiles = (topfile.parent / topfile.name.format(ilay=i + 1) for i in range(nlay))\n",
    "\n",
    "tops = read_3d_array(topfiles)\n",
    "\n",
    "# mask bad nodata values\n",
    "tops = np.ma.masked_where(tops.mask | (tops < -9990.), tops)"
   ]
  },
  {
   "cell_type": "code",
   "execution_count": null,
   "metadata": {},
   "outputs": [],
   "source": [
    "# read bots\n",
    "botfiles = (botfile.parent / botfile.name.format(ilay=i + 1) for i in range(nlay))\n",
    "\n",
    "bots = read_3d_array(botfiles)\n",
    "\n",
    "# mask bad nodata values\n",
    "bots = np.ma.masked_where(bots.mask | (bots < -9990.), bots)"
   ]
  },
  {
   "cell_type": "code",
   "execution_count": null,
   "metadata": {},
   "outputs": [],
   "source": [
    "# convert to top, botm\n",
    "top = tops[0, :, :].filled(0.)\n",
    "botm = []\n",
    "for ilay in range(nlay):\n",
    "    botm.append(bots[ilay, :, :].filled((2*ilay + 1) * -1e-3))\n",
    "    if (ilay + 1) < nlay:\n",
    "        botm.append(tops[ilay + 1, :, :].filled((2*ilay + 2) * -1e-3))\n",
    "botm = np.ma.stack(botm)"
   ]
  },
  {
   "cell_type": "code",
   "execution_count": null,
   "metadata": {},
   "outputs": [],
   "source": [
    "# read idomain\n",
    "idomain = read_array(idomainfile).filled(0.)"
   ]
  },
  {
   "cell_type": "code",
   "execution_count": null,
   "metadata": {},
   "outputs": [],
   "source": [
    "# idomain\n",
    "idomain3d = np.broadcast_to(idomain, botm.shape)"
   ]
  },
  {
   "cell_type": "code",
   "execution_count": null,
   "metadata": {},
   "outputs": [],
   "source": [
    "# initialize the DIS package\n",
    "dis = flopy.mf6.modflow.mfgwfdis.ModflowGwfdis(gwf,\n",
    "    pname='dis', nlay=(nlay*2 - 1),\n",
    "    nrow=nrow, ncol=ncol,\n",
    "    delr=delr, delc=delc,\n",
    "    top=top, botm=botm,\n",
    "    idomain=idomain3d,\n",
    "    )"
   ]
  },
  {
   "cell_type": "code",
   "execution_count": null,
   "metadata": {},
   "outputs": [],
   "source": [
    "# read kD\n",
    "kdfiles = (kdfile.parent / kdfile.name.format(ilay=i + 1) for i in range(nlay))\n",
    "kd = read_3d_array(kdfiles)\n",
    "\n",
    "# convert to kh\n",
    "kh = (kd / (tops - bots))\n",
    "\n",
    "# fill with low value\n",
    "kh = kh.filled(1e-6)"
   ]
  },
  {
   "cell_type": "code",
   "execution_count": null,
   "metadata": {},
   "outputs": [],
   "source": [
    "# add dummy values\n",
    "kh3d = np.ones((nlay*2 - 1, nrow, ncol)) * 1e-6\n",
    "kh3d[0::2] = kh"
   ]
  },
  {
   "cell_type": "code",
   "execution_count": null,
   "metadata": {},
   "outputs": [],
   "source": [
    "# read c\n",
    "cfiles = (cfile.parent / cfile.name.format(ilay=i + 1) for i in range(nlay - 1))\n",
    "c = read_3d_array(cfiles)\n",
    "\n",
    "# convert to kv\n",
    "kv = (bots[:-1, :, :] - tops[1:, :, :]) / c\n",
    "\n",
    "# fill with high value\n",
    "kv = kv.filled(1e6)"
   ]
  },
  {
   "cell_type": "code",
   "execution_count": null,
   "metadata": {},
   "outputs": [],
   "source": [
    "# add dummy values\n",
    "kv3d = np.ones((nlay*2 - 1, nrow, ncol)) * 1e6\n",
    "kv3d[1::2] = kv"
   ]
  },
  {
   "cell_type": "code",
   "execution_count": null,
   "metadata": {},
   "outputs": [],
   "source": [
    "# initialize the NPF package\n",
    "npf = flopy.mf6.modflow.mfgwfnpf.ModflowGwfnpf(\n",
    "    model=gwf,\n",
    "    k=kh3d,\n",
    "    k22=kh3d,\n",
    "    k33=kv3d,\n",
    ")"
   ]
  },
  {
   "cell_type": "code",
   "execution_count": null,
   "metadata": {},
   "outputs": [],
   "source": [
    "# read start\n",
    "startfiles = (startfile.parent / startfile.name.format(ilay=i + 1) for i in range(nlay))\n",
    "start = np.ma.repeat(read_3d_array(startfiles), 2, axis=0)[:-1, :, :]\n",
    "\n",
    "# mask values larger than 1000\n",
    "start = np.ma.masked_where(start.mask | (start > 1e3), start)\n",
    "\n",
    "# fill masked with zeros\n",
    "start = start.filled(0.)"
   ]
  },
  {
   "cell_type": "code",
   "execution_count": null,
   "metadata": {},
   "outputs": [],
   "source": [
    "# Create the initial conditions package\n",
    "ic = flopy.mf6.modflow.mfgwfic.ModflowGwfic(gwf, pname='ic', strt=start)"
   ]
  },
  {
   "cell_type": "code",
   "execution_count": null,
   "metadata": {
    "scrolled": true
   },
   "outputs": [],
   "source": [
    "# get boundary data from idomain and starting heads\n",
    "structure = np.ones((3, 3))\n",
    "isboundary = (idomain == 1) & ~binary_erosion(idomain, structure)\n",
    "chd_data = []\n",
    "for ilay in range(dis.nlay.get_data()):\n",
    "    for row, col in np.ndindex(*isboundary.shape):\n",
    "        if isboundary[row, col]:\n",
    "            chd_data.append(((ilay, row, col), start[ilay, row, col]))"
   ]
  },
  {
   "cell_type": "code",
   "execution_count": null,
   "metadata": {},
   "outputs": [],
   "source": [
    "# initialize the CHD package\n",
    "chd = flopy.mf6.modflow.mfgwfchd.ModflowGwfchd(gwf, pname='chd', stress_period_data=chd_data)"
   ]
  },
  {
   "cell_type": "code",
   "execution_count": null,
   "metadata": {},
   "outputs": [],
   "source": [
    "# recharge\n",
    "recharge = read_array(rechargefile)\n",
    "rch_rec = []\n",
    "lay = 0\n",
    "for row, col in np.ndindex(*recharge.shape):\n",
    "    if idomain[row, col]:\n",
    "        rch_rec.append(((lay, row, col), recharge[row, col]))\n",
    "rch_data = {0: rch_rec}"
   ]
  },
  {
   "cell_type": "code",
   "execution_count": null,
   "metadata": {},
   "outputs": [],
   "source": [
    "# initialize the RCH package\n",
    "rch = flopy.mf6.ModflowGwfrch(gwf, \n",
    "   pname='rch', stress_period_data=rch_data)"
   ]
  },
  {
   "cell_type": "code",
   "execution_count": null,
   "metadata": {},
   "outputs": [],
   "source": [
    "# DRN stress period data from Modflow 2005\n",
    "drn2005_data = pd.read_csv(drn2005file)\n",
    "\n",
    "# select active cells\n",
    "is_active = (idomain == 1)[drn2005_data.loc[:, 'i'], drn2005_data.loc[:, 'j']]\n",
    "\n",
    "get_stress_record = lambda r: (\n",
    "    (int(r.loc['k']) * 2, int(r.loc['i']), int(r.loc['j'])), r.loc['elev0'], r.loc['cond0']\n",
    "    )\n",
    "drn_data = drn2005_data.iloc[is_active, :].apply(get_stress_record, axis=1).values.tolist()\n",
    "\n",
    "# initialize the DRN package\n",
    "drn = flopy.mf6.modflow.mfgwfdrn.ModflowGwfdrn(gwf, pname='drn', stress_period_data=drn_data)"
   ]
  },
  {
   "cell_type": "code",
   "execution_count": null,
   "metadata": {},
   "outputs": [],
   "source": [
    "# GHB stress period data from Modflow 2005\n",
    "ghb2005_data = pd.read_csv(ghb2005file)\n",
    "\n",
    "# select active cells\n",
    "is_active = (idomain == 1)[ghb2005_data.loc[:, 'i'], ghb2005_data.loc[:, 'j']]\n",
    "\n",
    "get_stress_record = lambda r: (\n",
    "    (int(r.loc['k']) * 2, int(r.loc['i']), int(r.loc['j'])), r.loc['bhead0'], r.loc['cond0']\n",
    "    )\n",
    "ghb_data = ghb2005_data.iloc[is_active, :].apply(get_stress_record, axis=1).values.tolist()\n",
    "\n",
    "# initialize the GHB package\n",
    "ghb = flopy.mf6.modflow.mfgwfghb.ModflowGwfghb(gwf, pname='ghb', stress_period_data=ghb_data)"
   ]
  },
  {
   "cell_type": "code",
   "execution_count": null,
   "metadata": {},
   "outputs": [],
   "source": [
    "# RIV stress period data from Modflow 2005\n",
    "riv2005_data = pd.read_csv(riv2005file)\n",
    "\n",
    "# select active cells\n",
    "is_active = (idomain == 1)[riv2005_data.loc[:, 'i'], riv2005_data.loc[:, 'j']]\n",
    "\n",
    "get_stress_record = lambda r: (\n",
    "    (int(r.loc['k']) * 2, int(r.loc['i']), int(r.loc['j'])), r.loc['stage0'], r.loc['cond0'], r.loc['rbot0']\n",
    "    )\n",
    "riv_data = riv2005_data.iloc[is_active, :].apply(get_stress_record, axis=1).values.tolist()\n",
    "\n",
    "# initialize the RIV package\n",
    "riv = flopy.mf6.modflow.mfgwfriv.ModflowGwfriv(gwf, pname='riv', stress_period_data=riv_data)"
   ]
  },
  {
   "cell_type": "code",
   "execution_count": null,
   "metadata": {},
   "outputs": [],
   "source": [
    "# read sources data from csv file\n",
    "sqs = pd.read_csv(sqfile)\n",
    "\n",
    "# to row,col from x,y\n",
    "fwd = rasterio.transform.from_origin(xllcorner, yllcorner + nrow*delr, delc, delr)\n",
    "\n",
    "# transform xy to row,col\n",
    "rows, cols = rasterio.transform.rowcol(fwd, sqs['xcoordinate'], sqs['ycoordinate'])\n",
    "\n",
    "# layer numbers & pumping rates\n",
    "layernumbers = sqs.loc[:, 'ilay'].tolist()\n",
    "pumping_rates = sqs.loc[:, 'q_assigned'].tolist()"
   ]
  },
  {
   "cell_type": "code",
   "execution_count": null,
   "metadata": {},
   "outputs": [],
   "source": [
    "# convert source data to stress period data records\n",
    "wel_data = {}\n",
    "wel_rec = []\n",
    "for lay, row, col, q in zip(layernumbers, rows, cols, pumping_rates):\n",
    "    if idomain[row, col]:\n",
    "        wel_rec.append((((lay - 1)*2, row, col), q))\n",
    "wel_data[0] = wel_rec"
   ]
  },
  {
   "cell_type": "code",
   "execution_count": null,
   "metadata": {},
   "outputs": [],
   "source": [
    "# initialize WEL package\n",
    "wel = flopy.mf6.modflow.mfgwfwel.ModflowGwfwel(gwf,\n",
    "    pname='wel', \n",
    "    stress_period_data=wel_data)"
   ]
  },
  {
   "cell_type": "code",
   "execution_count": null,
   "metadata": {},
   "outputs": [],
   "source": [
    "# Create the Flopy iterative model solver (ims) Package object\n",
    "ims = flopy.mf6.modflow.mfims.ModflowIms(sim, pname='ims', complexity='SIMPLE')"
   ]
  },
  {
   "cell_type": "code",
   "execution_count": null,
   "metadata": {},
   "outputs": [],
   "source": [
    "# Create the output control package\n",
    "headfile = '{}.hds'.format(name)\n",
    "head_filerecord = [headfile]\n",
    "budgetfile = '{}.cbb'.format(name)\n",
    "budget_filerecord = [budgetfile]\n",
    "saverecord = [('HEAD', 'ALL'), \n",
    "              ('BUDGET', 'ALL')]\n",
    "printrecord = [('HEAD', 'LAST')]\n",
    "oc = flopy.mf6.modflow.mfgwfoc.ModflowGwfoc(gwf, pname='oc', saverecord=saverecord, \n",
    "                                            head_filerecord=head_filerecord,\n",
    "                                            budget_filerecord=budget_filerecord,\n",
    "                                            printrecord=printrecord)"
   ]
  },
  {
   "cell_type": "code",
   "execution_count": null,
   "metadata": {},
   "outputs": [],
   "source": [
    "# write simulation to new location\n",
    "sim.write_simulation()"
   ]
  },
  {
   "cell_type": "code",
   "execution_count": null,
   "metadata": {},
   "outputs": [],
   "source": [
    "# Run the simulation\n",
    "success, buff = sim.run_simulation()\n",
    "print('\\nSuccess is: ', success)"
   ]
  },
  {
   "cell_type": "code",
   "execution_count": null,
   "metadata": {},
   "outputs": [],
   "source": [
    "# read heads\n",
    "headfile = workspace / '{name:}.hds'.format(name=name)\n",
    "hds = flopy.utils.binaryfile.HeadFile(headfile)"
   ]
  },
  {
   "cell_type": "code",
   "execution_count": null,
   "metadata": {},
   "outputs": [],
   "source": [
    "# export to raster\n",
    "rasterfolder = workspace / 'heads'\n",
    "rasterfolder.mkdir(exist_ok=True)\n",
    "\n",
    "profile = read_profile(idomainfile)\n",
    "\n",
    "heads = hds.get_data()\n",
    "for i, raster in enumerate(heads[::2]):  # export only horizontal flow layers i.e. 1, 3, .. 37\n",
    "    raster[idomain < 1] = profile['nodata']  \n",
    "    rasterfile = rasterfolder / 'phi{ilay:d}.tif'.format(ilay=i + 1)\n",
    "    write_array(rasterfile, raster, profile)"
   ]
  },
  {
   "cell_type": "code",
   "execution_count": null,
   "metadata": {},
   "outputs": [],
   "source": []
  }
 ],
 "metadata": {
  "kernelspec": {
   "display_name": "Python 3",
   "language": "python",
   "name": "python3"
  },
  "language_info": {
   "codemirror_mode": {
    "name": "ipython",
    "version": 3
   },
   "file_extension": ".py",
   "mimetype": "text/x-python",
   "name": "python",
   "nbconvert_exporter": "python",
   "pygments_lexer": "ipython3",
   "version": "3.6.5"
  }
 },
 "nbformat": 4,
 "nbformat_minor": 2
}
