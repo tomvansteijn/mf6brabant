{
 "cells": [
  {
   "cell_type": "code",
   "execution_count": 1,
   "metadata": {},
   "outputs": [],
   "source": [
    "%matplotlib inline\n",
    "## imports\n",
    "\n",
    "# site\n",
    "from scipy.ndimage.morphology import binary_erosion\n",
    "from matplotlib import pyplot as plt\n",
    "import pandas as pd\n",
    "import numpy as np\n",
    "import rasterio\n",
    "import flopy\n",
    "\n",
    "# std\n",
    "from pathlib import Path\n",
    "import yaml"
   ]
  },
  {
   "cell_type": "code",
   "execution_count": 2,
   "metadata": {},
   "outputs": [],
   "source": [
    "def read_array(rasterfile, masked=True,  band=1):\n",
    "    with rasterio.open(rasterfile) as src:\n",
    "        return src.read(band, masked=masked)"
   ]
  },
  {
   "cell_type": "code",
   "execution_count": 3,
   "metadata": {},
   "outputs": [],
   "source": [
    "def read_profile(rasterfile):\n",
    "    with rasterio.open(rasterfile) as src:\n",
    "        return src.profile"
   ]
  },
  {
   "cell_type": "code",
   "execution_count": 4,
   "metadata": {},
   "outputs": [],
   "source": [
    "def write_array(rasterfile, values, profile):\n",
    "    with rasterio.open(rasterfile, 'w', **profile) as dst:\n",
    "        return dst.write(values, 1)"
   ]
  },
  {
   "cell_type": "code",
   "execution_count": 5,
   "metadata": {},
   "outputs": [],
   "source": [
    "def read_3d_array(rasterfiles, stack_axis=0, masked=True):\n",
    "    arrays = []\n",
    "    for rasterfile in rasterfiles:\n",
    "        arrays.append(read_array(rasterfile, masked=masked))\n",
    "    return np.ma.stack(arrays, axis=stack_axis)"
   ]
  },
  {
   "cell_type": "code",
   "execution_count": 6,
   "metadata": {},
   "outputs": [],
   "source": [
    "def save_int(datfile, array):\n",
    "    save_array(datfile, array, fmt='%i', delimiter=' ')\n"
   ]
  },
  {
   "cell_type": "code",
   "execution_count": 7,
   "metadata": {},
   "outputs": [],
   "source": [
    "def save_float(datfile, array):\n",
    "    save_array(datfile, array, fmt='%15.6E')"
   ]
  },
  {
   "cell_type": "code",
   "execution_count": 8,
   "metadata": {},
   "outputs": [],
   "source": [
    "def save_array(datfile, array, fmt, delimiter=''):\n",
    "    np.savetxt(datfile, array, fmt=fmt, delimiter=delimiter)"
   ]
  },
  {
   "cell_type": "code",
   "execution_count": 9,
   "metadata": {},
   "outputs": [],
   "source": [
    "## input\n",
    "# name\n",
    "name = 'mf6brabant_ext'\n",
    "\n",
    "# workspace\n",
    "workspace = Path(r'..\\output\\mf6brabant_using_external_files')\n",
    "\n",
    "# exe name\n",
    "exe_name = Path(r'..\\bin\\mf6.0.3\\bin\\mf6.exe')\n",
    "\n",
    "# spatial reference\n",
    "xllcorner = 60_000.\n",
    "yllcorner = 322_500.\n",
    "\n",
    "# grid dimensions\n",
    "nlay = 19\n",
    "nrow = 450\n",
    "ncol = 601\n",
    "delr = 250.\n",
    "delc = 250.\n",
    "\n",
    "# data files\n",
    "topfile = Path(r'..\\data\\topbot\\RL{ilay:d}.tif')\n",
    "botfile = Path(r'..\\data\\topbot\\TH{ilay:d}.tif')\n",
    "idomainfile = Path(r'..\\data\\boundary\\ibound.tif')\n",
    "               \n",
    "kdfile = Path(r'..\\data\\kdc\\TX{ilay:d}.tif')\n",
    "cfile = Path(r'..\\data\\kdc\\CL{ilay:d}.tif')\n",
    "             \n",
    "startfile = Path(r'..\\data\\startingheads\\HH{ilay:d}.tif')\n",
    "\n",
    "rechargefile = Path(r'..\\data\\recharge\\RP1.tif')\n",
    "\n",
    "drn2005file = Path(r'..\\data\\mf2005\\drn_data.csv')\n",
    "ghb2005file = Path(r'..\\data\\mf2005\\ghb_data.csv')\n",
    "riv2005file = Path(r'..\\data\\mf2005\\riv_data.csv')\n",
    "\n",
    "sqfile = Path(r'..\\data\\wells\\sq_list.csv')"
   ]
  },
  {
   "cell_type": "code",
   "execution_count": 10,
   "metadata": {},
   "outputs": [],
   "source": [
    "# create workspace directory\n",
    "workspace.mkdir(exist_ok=True)"
   ]
  },
  {
   "cell_type": "code",
   "execution_count": 11,
   "metadata": {},
   "outputs": [],
   "source": [
    "# create data directory\n",
    "datafolder = workspace / 'data'\n",
    "datafolder.mkdir(exist_ok=True)"
   ]
  },
  {
   "cell_type": "code",
   "execution_count": 12,
   "metadata": {},
   "outputs": [
    {
     "name": "stdout",
     "output_type": "stream",
     "text": [
      "Directory structure already exists for simulation path C:\\dev\\mf6brabant\\mf6brabant\\notebooks\\..\\output\\mf6brabant_using_external_files\n"
     ]
    }
   ],
   "source": [
    "# Create the Flopy simulation object\n",
    "sim = flopy.mf6.MFSimulation(\n",
    "    sim_name=name,\n",
    "    exe_name=str(exe_name), \n",
    "    version='mf6',\n",
    "    sim_ws=str(workspace))\n",
    "\n",
    "# Create the Flopy temporal discretization object\n",
    "tdis = flopy.mf6.modflow.mftdis.ModflowTdis(sim,\n",
    "    pname='tdis',\n",
    "    time_units='DAYS',\n",
    "    nper=1, \n",
    "    perioddata=[(1.0, 1, 1.0)],\n",
    "    )\n",
    "\n",
    "# Create the Flopy groundwater flow (gwf) model object\n",
    "model_nam_file = '{}.nam'.format(name)\n",
    "gwf = flopy.mf6.ModflowGwf(sim,\n",
    "    modelname=name, \n",
    "    model_nam_file=model_nam_file,\n",
    "    save_flows=True,\n",
    "    )"
   ]
  },
  {
   "cell_type": "code",
   "execution_count": 13,
   "metadata": {},
   "outputs": [],
   "source": [
    "# read tops\n",
    "topfiles = (topfile.parent / topfile.name.format(ilay=i + 1) for i in range(nlay))\n",
    "\n",
    "tops = read_3d_array(topfiles)\n",
    "\n",
    "# mask bad nodata values\n",
    "tops = np.ma.masked_where(tops.mask | (tops < -9990.), tops)"
   ]
  },
  {
   "cell_type": "code",
   "execution_count": 14,
   "metadata": {},
   "outputs": [],
   "source": [
    "# read bots\n",
    "botfiles = (botfile.parent / botfile.name.format(ilay=i + 1) for i in range(nlay))\n",
    "\n",
    "bots = read_3d_array(botfiles)\n",
    "\n",
    "# mask bad nodata values\n",
    "bots = np.ma.masked_where(bots.mask | (bots < -9990.), bots)"
   ]
  },
  {
   "cell_type": "code",
   "execution_count": 15,
   "metadata": {},
   "outputs": [],
   "source": [
    "# convert to top, botm\n",
    "top = tops[0, :, :].filled(0.)\n",
    "topdatfile = datafolder / 'top.dat'\n",
    "save_float(topdatfile, top)\n",
    "top_ext = {'filename': str(topdatfile.relative_to(workspace))}\n",
    "botm_ext = []\n",
    "for ilay in range(nlay):\n",
    "    botm = bots[ilay, :, :].filled((2*ilay + 1) * -1e-3)\n",
    "    botmdatfile = datafolder / 'botm_l{ilay:02d}.dat'.format(ilay=ilay*2 + 1)\n",
    "    save_float(botmdatfile, botm)\n",
    "    botm_ext.append({'filename': str(botmdatfile.relative_to(workspace))})\n",
    "    if (ilay + 1) < nlay:\n",
    "        botm = tops[ilay + 1, :, :].filled((2*ilay + 2) * -1e-3)\n",
    "        botmdatfile = datafolder / 'botm_l{ilay:02d}.dat'.format(ilay=ilay*2 + 2)\n",
    "        save_float(botmdatfile, botm)\n",
    "        botm_ext.append({'filename': str(botmdatfile.relative_to(workspace))})"
   ]
  },
  {
   "cell_type": "code",
   "execution_count": 16,
   "metadata": {},
   "outputs": [],
   "source": [
    "# read idomain\n",
    "idomain = read_array(idomainfile).filled(0.).astype(np.int)\n",
    "idomaindatfile = datafolder / 'idomain.dat'\n",
    "save_int(idomaindatfile, idomain)\n",
    "idomain_ext = [{'filename': str(idomaindatfile.relative_to(workspace))} for i in range(nlay*2 - 1)]"
   ]
  },
  {
   "cell_type": "code",
   "execution_count": 17,
   "metadata": {},
   "outputs": [],
   "source": [
    "# initialize the DIS package\n",
    "dis = flopy.mf6.modflow.mfgwfdis.ModflowGwfdis(gwf,\n",
    "    pname='dis', nlay=(nlay*2 - 1),\n",
    "    nrow=nrow, ncol=ncol,\n",
    "    delr=delr, delc=delc,\n",
    "    top=top_ext, botm=botm_ext,\n",
    "    idomain=idomain_ext,\n",
    "    length_units='METERS',\n",
    "    )"
   ]
  },
  {
   "cell_type": "code",
   "execution_count": 18,
   "metadata": {},
   "outputs": [],
   "source": [
    "# read kD\n",
    "kdfiles = (kdfile.parent / kdfile.name.format(ilay=i + 1) for i in range(nlay))\n",
    "kd = read_3d_array(kdfiles)\n",
    "\n",
    "# convert to kh\n",
    "kh = (kd / (tops - bots))\n",
    "\n",
    "# fill with low value\n",
    "kh = kh.filled(1e-6)\n",
    "\n",
    "# write to file\n",
    "kh_ext = []\n",
    "for ilay in range(nlay):\n",
    "    khdatfile = datafolder / 'kh_l{ilay:02d}.dat'.format(ilay=ilay*2 + 1)\n",
    "    save_float(khdatfile, kh[ilay, :, :])\n",
    "    kh_ext.append(\n",
    "        {'filename': str(khdatfile.relative_to(workspace))},\n",
    "        )\n",
    "    if (ilay + 1) < nlay:\n",
    "        # dummy values\n",
    "        kh_ext.append(1e-6)"
   ]
  },
  {
   "cell_type": "code",
   "execution_count": 19,
   "metadata": {},
   "outputs": [],
   "source": [
    "# read c\n",
    "cfiles = (cfile.parent / cfile.name.format(ilay=i + 1) for i in range(nlay - 1))\n",
    "c = read_3d_array(cfiles)\n",
    "\n",
    "# convert to kv\n",
    "kv = (bots[:-1, :, :] - tops[1:, :, :]) / c\n",
    "\n",
    "# fill with high value\n",
    "kv = kv.filled(1e6)\n",
    "\n",
    "# write to file\n",
    "kv_ext = []\n",
    "for ilay in range(nlay):\n",
    "    # dummy values\n",
    "    kv_ext.append(1e6)\n",
    "    if (ilay + 1) < nlay:\n",
    "        kvdatfile = datafolder / 'kv_l{ilay:02d}.dat'.format(ilay=ilay*2 + 2)\n",
    "        save_float(kvdatfile, kv[ilay, :, :])\n",
    "        kv_ext.append(\n",
    "            {'filename': str(kvdatfile.relative_to(workspace))},\n",
    "            )"
   ]
  },
  {
   "cell_type": "code",
   "execution_count": 20,
   "metadata": {},
   "outputs": [],
   "source": [
    "# initialize the NPF package\n",
    "npf = flopy.mf6.modflow.mfgwfnpf.ModflowGwfnpf(\n",
    "    model=gwf,\n",
    "    k=kh_ext,\n",
    "    k22=kh_ext,\n",
    "    k33=kv_ext,\n",
    ")"
   ]
  },
  {
   "cell_type": "code",
   "execution_count": 21,
   "metadata": {},
   "outputs": [],
   "source": [
    "# read start\n",
    "startfiles = (startfile.parent / startfile.name.format(ilay=i + 1) for i in range(nlay))\n",
    "start = read_3d_array(startfiles)\n",
    "\n",
    "# mask values larger than 1000\n",
    "start = np.ma.masked_where(start.mask | (start > 1e3), start)\n",
    "\n",
    "# fill masked with zeros\n",
    "start = start.filled(0.)\n",
    "\n",
    "start_ext = []\n",
    "for ilay in range(nlay):\n",
    "    startdatfile = datafolder / 'start_l{ilay:02d}.dat'.format(ilay=ilay*2 + 1)\n",
    "    save_float(startdatfile, start[ilay, :, :])\n",
    "    start_ext.append(\n",
    "        {'filename': str(startdatfile.relative_to(workspace))},\n",
    "        )\n",
    "    if (ilay + 1) < nlay:\n",
    "        start_ext.append(\n",
    "            {'filename': str(startdatfile.relative_to(workspace))},\n",
    "            )"
   ]
  },
  {
   "cell_type": "code",
   "execution_count": 22,
   "metadata": {},
   "outputs": [],
   "source": [
    "# Create the initial conditions package\n",
    "ic = flopy.mf6.modflow.mfgwfic.ModflowGwfic(gwf, pname='ic', strt=start_ext)"
   ]
  },
  {
   "cell_type": "code",
   "execution_count": 23,
   "metadata": {
    "scrolled": true
   },
   "outputs": [],
   "source": [
    "# get boundary data from idomain and starting heads\n",
    "structure = np.ones((3, 3))\n",
    "isboundary = (idomain == 1) & ~binary_erosion(idomain, structure)\n",
    "chd_data = []\n",
    "for ilay in range(dis.nlay.get_data()):    \n",
    "    for row, col in np.ndindex(*isboundary.shape):\n",
    "        if isboundary[row, col]:\n",
    "            chd_data.append(((ilay, row, col), start[ilay//2, row, col]))\n",
    "\n",
    "chddatfile = datafolder / 'chd.dat'\n",
    "chd_ext = {0: {\n",
    "    'filename': str(chddatfile.relative_to(workspace)),\n",
    "    'data': chd_data,\n",
    "    }}"
   ]
  },
  {
   "cell_type": "code",
   "execution_count": 24,
   "metadata": {},
   "outputs": [],
   "source": [
    "# initialize the CHD package\n",
    "chd = flopy.mf6.modflow.mfgwfchd.ModflowGwfchd(gwf,\n",
    "    pname='chd',\n",
    "    maxbound=len(chd_data),\n",
    "    stress_period_data=chd_ext,\n",
    "    )"
   ]
  },
  {
   "cell_type": "code",
   "execution_count": 25,
   "metadata": {},
   "outputs": [],
   "source": [
    "# recharge\n",
    "recharge = read_array(rechargefile)\n",
    "rechargedatfile = datafolder / 'recharge.dat'\n",
    "save_float(rechargedatfile, recharge)\n",
    "recharge_ext = [{'filename': str(rechargedatfile.relative_to(workspace))}]"
   ]
  },
  {
   "cell_type": "code",
   "execution_count": 26,
   "metadata": {},
   "outputs": [],
   "source": [
    "# initialize the RCH package\n",
    "rch = flopy.mf6.ModflowGwfrcha(gwf, pname='rch', recharge=recharge_ext)"
   ]
  },
  {
   "cell_type": "code",
   "execution_count": 32,
   "metadata": {},
   "outputs": [],
   "source": [
    "# DRN stress period data from Modflow 2005\n",
    "drn2005_data = pd.read_csv(drn2005file)\n",
    "\n",
    "# select active cells\n",
    "is_active = (idomain == 1)[drn2005_data.loc[:, 'i'], drn2005_data.loc[:, 'j']]\n",
    "\n",
    "get_stress_record = lambda r: (\n",
    "    (int(r.loc['k']) * 2, int(r.loc['i']), int(r.loc['j'])), r.loc['elev0'], r.loc['cond0']\n",
    "    )\n",
    "drn_data = drn2005_data.iloc[is_active, :].apply(get_stress_record, axis=1).values.tolist()\n",
    "\n",
    "drndatfile = datafolder / 'drn.dat'\n",
    "drn_ext = {0: {\n",
    "    'filename': str(drndatfile.relative_to(workspace)),\n",
    "    'data': drn_data,\n",
    "    }}\n",
    "\n",
    "# initialize the DRN package\n",
    "drn = flopy.mf6.modflow.mfgwfdrn.ModflowGwfdrn(gwf,\n",
    "    pname='drn',\n",
    "    maxbound=len(drn_data),\n",
    "    stress_period_data=drn_ext,\n",
    "    )"
   ]
  },
  {
   "cell_type": "code",
   "execution_count": 33,
   "metadata": {},
   "outputs": [],
   "source": [
    "# GHB stress period data from Modflow 2005\n",
    "ghb2005_data = pd.read_csv(ghb2005file)\n",
    "\n",
    "# select active cells\n",
    "is_active = (idomain == 1)[ghb2005_data.loc[:, 'i'], ghb2005_data.loc[:, 'j']]\n",
    "\n",
    "get_stress_record = lambda r: (\n",
    "    (int(r.loc['k']) * 2, int(r.loc['i']), int(r.loc['j'])), r.loc['bhead0'], r.loc['cond0']\n",
    "    )\n",
    "ghb_data = ghb2005_data.iloc[is_active, :].apply(get_stress_record, axis=1).values.tolist()\n",
    "\n",
    "ghbdatfile = datafolder / 'ghb.dat'\n",
    "ghb_ext = {0: {\n",
    "    'filename': str(ghbdatfile.relative_to(workspace)),\n",
    "    'data': ghb_data,\n",
    "    }}\n",
    "\n",
    "# initialize the GHB package\n",
    "ghb = flopy.mf6.modflow.mfgwfghb.ModflowGwfghb(gwf,\n",
    "    pname='ghb',\n",
    "    maxbound=len(ghb_data),\n",
    "    stress_period_data=ghb_ext,\n",
    "    )"
   ]
  },
  {
   "cell_type": "code",
   "execution_count": 34,
   "metadata": {},
   "outputs": [],
   "source": [
    "# RIV stress period data from Modflow 2005\n",
    "riv2005_data = pd.read_csv(riv2005file)\n",
    "\n",
    "# select active cells\n",
    "is_active = (idomain == 1)[riv2005_data.loc[:, 'i'], riv2005_data.loc[:, 'j']]\n",
    "\n",
    "get_stress_record = lambda r: (\n",
    "    (int(r.loc['k']) * 2, int(r.loc['i']), int(r.loc['j'])), r.loc['stage0'], r.loc['cond0'], r.loc['rbot0']\n",
    "    )\n",
    "riv_data = riv2005_data.iloc[is_active, :].apply(get_stress_record, axis=1).values.tolist()\n",
    "\n",
    "rivdatfile = datafolder / 'riv.dat'\n",
    "riv_ext = {0: {\n",
    "    'filename': str(rivdatfile.relative_to(workspace)),\n",
    "    'data': riv_data,\n",
    "    }}\n",
    "\n",
    "# initialize the RIV package\n",
    "riv = flopy.mf6.modflow.mfgwfriv.ModflowGwfriv(gwf,\n",
    "    pname='riv',\n",
    "    maxbound=len(riv_data),\n",
    "    stress_period_data=riv_ext,\n",
    "    )"
   ]
  },
  {
   "cell_type": "code",
   "execution_count": 35,
   "metadata": {},
   "outputs": [],
   "source": [
    "# read sources data from csv file\n",
    "sqs = pd.read_csv(sqfile)\n",
    "\n",
    "# to row,col from x,y\n",
    "fwd = rasterio.transform.from_origin(xllcorner, yllcorner + nrow*delr, delc, delr)\n",
    "\n",
    "# transform xy to row,col\n",
    "sqs.loc[:, 'row'], sqs.loc[:, 'col'] = (\n",
    "    rasterio.transform.rowcol(fwd, sqs['xcoordinate'], sqs['ycoordinate'])\n",
    "    )\n",
    "\n",
    "# select active cells\n",
    "is_active = (idomain == 1)[sqs.loc[:, 'row'], sqs.loc[:, 'col']]\n",
    "\n",
    "# transform xy to row,col\n",
    "rows, cols = rasterio.transform.rowcol(fwd, sqs['xcoordinate'], sqs['ycoordinate'])\n",
    "\n",
    "# layer numbers & pumping rates\n",
    "layernumbers = sqs.loc[:, 'ilay'].tolist()\n",
    "pumping_rates = sqs.loc[:, 'q_assigned'].tolist()\n",
    "\n",
    "# convert source data to stress period data records\n",
    "wel_data = []\n",
    "for lay, row, col, q in zip(layernumbers, rows, cols, pumping_rates):\n",
    "    if idomain[row, col]:\n",
    "        wel_data.append((((lay - 1)*2, row, col), q))\n",
    "\n",
    "weldatfile = datafolder / 'wel.dat'\n",
    "wel_ext = {0: {\n",
    "    'filename': str(weldatfile.relative_to(workspace)),\n",
    "    'data': wel_data,\n",
    "    }}"
   ]
  },
  {
   "cell_type": "code",
   "execution_count": 36,
   "metadata": {},
   "outputs": [],
   "source": [
    "# initialize WEL package\n",
    "wel = flopy.mf6.modflow.mfgwfwel.ModflowGwfwel(gwf,\n",
    "    pname='wel',\n",
    "    maxbound=len(wel_data),\n",
    "    stress_period_data=wel_ext,\n",
    "    )"
   ]
  },
  {
   "cell_type": "code",
   "execution_count": 37,
   "metadata": {},
   "outputs": [],
   "source": [
    "# Create the Flopy iterative model solver (ims) Package object\n",
    "ims = flopy.mf6.modflow.mfims.ModflowIms(sim, pname='ims', complexity='SIMPLE')"
   ]
  },
  {
   "cell_type": "code",
   "execution_count": 38,
   "metadata": {},
   "outputs": [],
   "source": [
    "# Create the output control package\n",
    "headfile = '{}.hds'.format(name)\n",
    "head_filerecord = [headfile]\n",
    "budgetfile = '{}.cbb'.format(name)\n",
    "budget_filerecord = [budgetfile]\n",
    "saverecord = [('HEAD', 'ALL'), \n",
    "              ('BUDGET', 'ALL')]\n",
    "printrecord = [('HEAD', 'LAST')]\n",
    "oc = flopy.mf6.modflow.mfgwfoc.ModflowGwfoc(gwf, pname='oc', saverecord=saverecord, \n",
    "                                            head_filerecord=head_filerecord,\n",
    "                                            budget_filerecord=budget_filerecord,\n",
    "                                            printrecord=printrecord)"
   ]
  },
  {
   "cell_type": "code",
   "execution_count": 42,
   "metadata": {},
   "outputs": [
    {
     "name": "stdout",
     "output_type": "stream",
     "text": [
      "writing simulation...\n",
      "  writing simulation name file...\n",
      "  writing simulation tdis package...\n",
      "  writing ims package ims...\n",
      "  writing model mf6brabant_ext...\n",
      "    writing model name file...\n",
      "    writing package dis...\n",
      "    writing package npf...\n",
      "    writing package ic...\n",
      "    writing package chd...\n",
      "    writing package rch...\n",
      "    writing package drn...\n",
      "    writing package ghb...\n",
      "    writing package riv...\n",
      "    writing package wel...\n",
      "    writing package oc...\n"
     ]
    }
   ],
   "source": [
    "# write simulation to new location\n",
    "sim.write_simulation()"
   ]
  },
  {
   "cell_type": "code",
   "execution_count": null,
   "metadata": {},
   "outputs": [
    {
     "name": "stdout",
     "output_type": "stream",
     "text": [
      "FloPy is using the following  executable to run the model: ..\\bin\\mf6.0.3\\bin\\mf6.exe\n",
      "                                   MODFLOW 6\n",
      "                U.S. GEOLOGICAL SURVEY MODULAR HYDROLOGIC MODEL\n",
      "                            VERSION 6.0.3 08/09/2018\n",
      "\n",
      "   MODFLOW 6 compiled Aug 09 2018 13:40:32 with IFORT compiler (ver. 18.0.3)\n",
      "\n",
      "This software has been approved for release by the U.S. Geological \n",
      "Survey (USGS). Although the software has been subjected to rigorous \n",
      "review, the USGS reserves the right to update the software as needed \n",
      "pursuant to further analysis and review. No warranty, expressed or \n",
      "implied, is made by the USGS or the U.S. Government as to the \n",
      "functionality of the software and related material nor shall the \n",
      "fact of release constitute any such warranty. Furthermore, the \n",
      "software is released on condition that neither the USGS nor the U.S. \n",
      "Government shall be held liable for any damages resulting from its \n",
      "authorized or unauthorized use. Also refer to the USGS Water \n",
      "Resources Software User Rights Notice for complete use, copyright, \n",
      "and distribution information.\n",
      "\n",
      " Run start date and time (yyyy/mm/dd hh:mm:ss): 2019/03/04 16:41:31\n",
      "\n",
      " Writing simulation list file: mfsim.lst\n",
      " Using Simulation name file: mfsim.nam\n",
      " Solving:  Stress period:     1    Time step:     1\n"
     ]
    }
   ],
   "source": [
    "# Run the simulation\n",
    "success, buff = sim.run_simulation()\n",
    "print('\\nSuccess is: ', success)"
   ]
  },
  {
   "cell_type": "code",
   "execution_count": null,
   "metadata": {},
   "outputs": [],
   "source": [
    "# read heads\n",
    "headfile = workspace / '{name:}.hds'.format(name=name)\n",
    "hds = flopy.utils.binaryfile.HeadFile(headfile)"
   ]
  },
  {
   "cell_type": "code",
   "execution_count": null,
   "metadata": {},
   "outputs": [],
   "source": [
    "# export to raster\n",
    "rasterfolder = workspace / 'heads'\n",
    "rasterfolder.mkdir(exist_ok=True)\n",
    "\n",
    "profile = read_profile(idomainfile)\n",
    "\n",
    "heads = hds.get_data()\n",
    "for i, raster in enumerate(heads[::2]):  # export only horizontal flow layers i.e. 1, 3, .. 37\n",
    "    raster[idomain < 1] = profile['nodata']  \n",
    "    rasterfile = rasterfolder / 'phi{ilay:d}.tif'.format(ilay=i + 1)\n",
    "    write_array(rasterfile, raster, profile)"
   ]
  }
 ],
 "metadata": {
  "kernelspec": {
   "display_name": "Python 3",
   "language": "python",
   "name": "python3"
  },
  "language_info": {
   "codemirror_mode": {
    "name": "ipython",
    "version": 3
   },
   "file_extension": ".py",
   "mimetype": "text/x-python",
   "name": "python",
   "nbconvert_exporter": "python",
   "pygments_lexer": "ipython3",
   "version": "3.6.5"
  }
 },
 "nbformat": 4,
 "nbformat_minor": 2
}
