{
 "cells": [
  {
   "cell_type": "code",
   "execution_count": 2,
   "metadata": {},
   "outputs": [],
   "source": [
    "%matplotlib inline\n",
    "## imports\n",
    "\n",
    "# site\n",
    "from matplotlib import pyplot as plt\n",
    "import numpy as np\n",
    "import rasterio\n",
    "import flopy\n",
    "\n",
    "# std\n",
    "from pathlib import Path\n",
    "import yaml"
   ]
  },
  {
   "cell_type": "code",
   "execution_count": 25,
   "metadata": {},
   "outputs": [],
   "source": [
    "def read_array(rasterfile, masked=True,  band=1):\n",
    "    with rasterio.open(rasterfile) as src:\n",
    "        return src.read(band, masked=masked)"
   ]
  },
  {
   "cell_type": "code",
   "execution_count": 26,
   "metadata": {},
   "outputs": [],
   "source": [
    "def read_3d_array(rasterfiles, stack_axis=0, masked=True):\n",
    "    arrays = []\n",
    "    for rasterfile in rasterfiles:\n",
    "        arrays.append(read_array(rasterfile, masked=masked))\n",
    "    return np.ma.stack(arrays, axis=stack_axis)"
   ]
  },
  {
   "cell_type": "code",
   "execution_count": 4,
   "metadata": {},
   "outputs": [],
   "source": [
    "data_dir = Path('../../mf6/data')"
   ]
  },
  {
   "cell_type": "code",
   "execution_count": 37,
   "metadata": {},
   "outputs": [],
   "source": [
    "## input\n",
    "\n",
    "# name\n",
    "name = 'test_npf_brabant'\n",
    "\n",
    "# workspace\n",
    "workspace = Path(r'../output/npf')\n",
    "\n",
    "# grid dimensions\n",
    "nlay = 19\n",
    "nrow = 450\n",
    "ncol = 601\n",
    "delr = 250.\n",
    "delc = 250.\n",
    "\n",
    "# data files\n",
    "idomainfile = data_dir / 'boundary/IBOUND.tif'\n",
    "topfile = str(data_dir / 'topbot/RL{ilay:}.tif')\n",
    "botfile = str(data_dir / 'topbot/TH{ilay:}.tif')"
   ]
  },
  {
   "cell_type": "code",
   "execution_count": 27,
   "metadata": {},
   "outputs": [
    {
     "name": "stdout",
     "output_type": "stream",
     "text": [
      "(450, 601)\n"
     ]
    }
   ],
   "source": [
    "# read idomain\n",
    "idomain = read_array(idomainfile).filled(0.)\n",
    "print(idomain.shape)"
   ]
  },
  {
   "cell_type": "code",
   "execution_count": 28,
   "metadata": {},
   "outputs": [
    {
     "data": {
      "text/plain": [
       "<matplotlib.colorbar.Colorbar at 0x7f226cec1e48>"
      ]
     },
     "execution_count": 28,
     "metadata": {},
     "output_type": "execute_result"
    },
    {
     "data": {
      "image/png": "[encoded data removed]",
      "text/plain": [
       "<Figure size 432x288 with 2 Axes>"
      ]
     },
     "metadata": {
      "needs_background": "light"
     },
     "output_type": "display_data"
    }
   ],
   "source": [
    "# show idomain\n",
    "plt.imshow(idomain)\n",
    "plt.colorbar()"
   ]
  },
  {
   "cell_type": "code",
   "execution_count": 39,
   "metadata": {},
   "outputs": [
    {
     "name": "stdout",
     "output_type": "stream",
     "text": [
      "(19, 450, 601)\n"
     ]
    }
   ],
   "source": [
    "# read tops\n",
    "topfiles = (Path(topfile.format(ilay=i + 1)) for i in range(nlay))\n",
    "\n",
    "tops = read_3d_array(topfiles)\n",
    "\n",
    "# mask bad nodata values\n",
    "tops = np.ma.masked_where(tops.mask | (tops < -9990.), tops)\n",
    "\n",
    "# fill masked with zeros\n",
    "tops = tops.filled(0.)\n",
    "\n",
    "print(tops.shape)"
   ]
  },
  {
   "cell_type": "code",
   "execution_count": 40,
   "metadata": {},
   "outputs": [
    {
     "name": "stdout",
     "output_type": "stream",
     "text": [
      "(19, 450, 601)\n"
     ]
    }
   ],
   "source": [
    "# read bots\n",
    "botfiles = (Path(botfile.format(ilay=i + 1)) for i in range(nlay))\n",
    "\n",
    "bots = read_3d_array(botfiles)\n",
    "\n",
    "# mask bad nodata values\n",
    "bots = np.ma.masked_where(bots.mask | (bots < -9990.), bots)\n",
    "\n",
    "# fill masked with zeros\n",
    "bots = bots.filled(0.)\n",
    "\n",
    "print(bots.shape)"
   ]
  },
  {
   "cell_type": "code",
   "execution_count": 41,
   "metadata": {},
   "outputs": [
    {
     "name": "stdout",
     "output_type": "stream",
     "text": [
      "(37, 450, 601)\n"
     ]
    }
   ],
   "source": [
    "# convert to top, botm\n",
    "top = tops[0, :, :]\n",
    "botm = []\n",
    "for ilay in range(nlay):\n",
    "    botm.append(bots[ilay, :, :])\n",
    "    if (ilay + 1) < nlay:\n",
    "        botm.append(tops[ilay + 1, :, :])\n",
    "botm = np.ma.stack(botm)\n",
    "print(botm.shape)"
   ]
  },
  {
   "cell_type": "code",
   "execution_count": 42,
   "metadata": {},
   "outputs": [
    {
     "name": "stdout",
     "output_type": "stream",
     "text": [
      "(37, 450, 601)\n"
     ]
    }
   ],
   "source": [
    "# idomain\n",
    "idomain = np.broadcast_to(idomain, botm.shape)\n",
    "print(idomain.shape)"
   ]
  },
  {
   "cell_type": "code",
   "execution_count": 44,
   "metadata": {},
   "outputs": [
    {
     "name": "stdout",
     "output_type": "stream",
     "text": [
      "0\n",
      "TX\n",
      "1\n",
      "CL\n",
      "2\n",
      "TX\n",
      "3\n",
      "CL\n",
      "4\n",
      "TX\n",
      "5\n",
      "CL\n",
      "6\n",
      "TX\n",
      "7\n",
      "CL\n",
      "8\n",
      "TX\n",
      "9\n",
      "CL\n",
      "10\n",
      "TX\n",
      "11\n",
      "CL\n",
      "12\n",
      "TX\n",
      "13\n",
      "CL\n",
      "14\n",
      "TX\n",
      "15\n",
      "CL\n",
      "16\n",
      "TX\n",
      "17\n",
      "CL\n",
      "18\n",
      "TX\n",
      "19\n",
      "CL\n",
      "20\n",
      "TX\n",
      "21\n",
      "CL\n",
      "22\n",
      "TX\n",
      "23\n",
      "CL\n",
      "24\n",
      "TX\n",
      "25\n",
      "CL\n",
      "26\n",
      "TX\n",
      "27\n",
      "CL\n",
      "28\n",
      "TX\n",
      "29\n",
      "CL\n",
      "30\n",
      "TX\n",
      "31\n",
      "CL\n",
      "32\n",
      "TX\n",
      "33\n",
      "CL\n",
      "34\n",
      "TX\n",
      "35\n",
      "CL\n",
      "36\n",
      "TX\n"
     ]
    }
   ],
   "source": [
    "k11 = np.zeros(idomain.shape, dtype=np.float)\n",
    "k33 = np.zeros(idomain.shape, dtype=np.float)\n",
    "for idx in range(botm.shape[0]):\n",
    "    print(idx)\n",
    "    if idx % 2 == 0:\n",
    "        layer_trans_file = data_dir / f'kdc/TX{layer+1}.tif'\n",
    "        layer_trans = read_array(layer_trans_file)\n",
    "        \n",
    "        d = botm[idx+1, :, :] - botm[idx, :, :]\n",
    "        \n",
    "    else:\n",
    "        layer_resist_file = data_dir / f'kdc/CL{layer+1}.tif'\n",
    "        layer_resist = read_array(layer_resist_file)    "
   ]
  },
  {
   "cell_type": "code",
   "execution_count": 100,
   "metadata": {},
   "outputs": [],
   "source": [
    "# create workspace directory\n",
    "workspace.mkdir(exist_ok=True)"
   ]
  },
  {
   "cell_type": "code",
   "execution_count": 11,
   "metadata": {},
   "outputs": [
    {
     "name": "stdout",
     "output_type": "stream",
     "text": [
      "Directory structure already exists for simulation path C:\\dev\\mf6brabant\\mf6brabant\\notebooks\\..\\output\\dis\n"
     ]
    }
   ],
   "source": [
    "# Create the Flopy simulation object\n",
    "sim = flopy.mf6.MFSimulation(\n",
    "    sim_name=name,\n",
    "    exe_name='mf6', \n",
    "    version='mf6',\n",
    "    sim_ws=str(workspace))\n",
    "\n",
    "# Create the Flopy temporal discretization object\n",
    "tdis = flopy.mf6.modflow.mftdis.ModflowTdis(sim,\n",
    "    pname='tdis',\n",
    "    time_units='DAYS',\n",
    "    nper=1, \n",
    "    perioddata=[(1.0, 1, 1.0)],\n",
    "    )\n",
    "\n",
    "# Create the Flopy groundwater flow (gwf) model object\n",
    "model_nam_file = '{}.nam'.format(name)\n",
    "gwf = flopy.mf6.ModflowGwf(sim,\n",
    "    modelname=name, \n",
    "   model_nam_file=model_nam_file,\n",
    "   )"
   ]
  },
  {
   "cell_type": "code",
   "execution_count": null,
   "metadata": {},
   "outputs": [],
   "source": [
    "# initialize the DIS package\n",
    "dis = flopy.mf6.modflow.mfgwfdis.ModflowGwfdis(gwf,\n",
    "    pname='dis', nlay=nlay,\n",
    "    nrow=nrow, ncol=ncol,\n",
    "    delr=delr, delc=delc,\n",
    "    top=top, botm=botm,\n",
    "    idomain=idomain,\n",
    "    )"
   ]
  },
  {
   "cell_type": "code",
   "execution_count": null,
   "metadata": {},
   "outputs": [],
   "source": [
    "# write to package file\n",
    "dis.write_file(check=False)"
   ]
  }
 ],
 "metadata": {
  "kernelspec": {
   "display_name": "Python 3",
   "language": "python",
   "name": "python3"
  },
  "language_info": {
   "codemirror_mode": {
    "name": "ipython",
    "version": 3
   },
   "file_extension": ".py",
   "mimetype": "text/x-python",
   "name": "python",
   "nbconvert_exporter": "python",
   "pygments_lexer": "ipython3",
   "version": "3.7.0"
  }
 },
 "nbformat": 4,
 "nbformat_minor": 2
}
