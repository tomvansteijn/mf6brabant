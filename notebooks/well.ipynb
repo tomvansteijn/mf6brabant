{
 "cells": [
  {
   "cell_type": "code",
   "execution_count": 1,
   "metadata": {},
   "outputs": [],
   "source": [
    "%matplotlib inline\n",
    "## imports\n",
    "\n",
    "# site\n",
    "from matplotlib import pyplot as plt\n",
    "import numpy as np\n",
    "import pandas as pd\n",
    "import rasterio\n",
    "import affine\n",
    "import flopy\n",
    "\n",
    "# std\n",
    "from pathlib import Path"
   ]
  },
  {
   "cell_type": "code",
   "execution_count": 2,
   "metadata": {},
   "outputs": [],
   "source": [
    "def read_array(rasterfile, masked=True,  band=1):\n",
    "    with rasterio.open(rasterfile) as src:\n",
    "        return src.read(band, masked=masked)"
   ]
  },
  {
   "cell_type": "code",
   "execution_count": 3,
   "metadata": {},
   "outputs": [],
   "source": [
    "## input\n",
    "\n",
    "# name\n",
    "name = 'test_wel_brabant'\n",
    "\n",
    "# workspace\n",
    "workspace = Path(r'.')\n",
    "                 \n",
    "# data file\n",
    "sqfile = Path(r'..\\mf6\\data\\wells\\sq_list.csv')"
   ]
  },
  {
   "cell_type": "code",
   "execution_count": 22,
   "metadata": {},
   "outputs": [],
   "source": [
    "sqs = pd.read_csv(sqfile)[['id','xcoordinate','ycoordinate', 'ilay', 'q_assigned']]\n",
    "sqs['ilay'] = sqs['ilay'].apply(lambda x: x*2-1)"
   ]
  },
  {
   "cell_type": "code",
   "execution_count": 23,
   "metadata": {},
   "outputs": [],
   "source": [
    "ncols=       601\n",
    "nrows=       450\n",
    "xllcorner=   60000.\n",
    "yllcorner=   322500.\n",
    "cellsize=    250.\n",
    "\n",
    "# Transformation to row,col from x,y \n",
    "# To do: on DIS basis\n",
    "geotransform = (60000., 250.0, 0.0, 322500., 0.0, 250.0)\n",
    "fwd = affine.Affine.from_gdal(*geotransform);"
   ]
  },
  {
   "cell_type": "code",
   "execution_count": 24,
   "metadata": {},
   "outputs": [],
   "source": [
    "# moet nog gecheckt\n",
    "sqs['xcoordinate'],sqs['ycoordinate'] = rasterio.transform.rowcol(fwd, sqs['xcoordinate'], sqs['ycoordinate'])"
   ]
  }
 ],
 "metadata": {
  "kernelspec": {
   "display_name": "Python 3",
   "language": "python",
   "name": "python3"
  },
  "language_info": {
   "codemirror_mode": {
    "name": "ipython",
    "version": 3
   },
   "file_extension": ".py",
   "mimetype": "text/x-python",
   "name": "python",
   "nbconvert_exporter": "python",
   "pygments_lexer": "ipython3",
   "version": "3.6.7"
  }
 },
 "nbformat": 4,
 "nbformat_minor": 2
}
