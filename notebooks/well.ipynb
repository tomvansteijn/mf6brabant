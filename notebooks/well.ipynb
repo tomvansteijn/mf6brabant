{
 "cells": [
  {
   "cell_type": "code",
   "execution_count": 1,
   "metadata": {},
   "outputs": [],
   "source": [
    "%matplotlib inline\n",
    "## imports\n",
    "\n",
    "# site\n",
    "from matplotlib import pyplot as plt\n",
    "import numpy as np\n",
    "import pandas as pd\n",
    "import rasterio\n",
    "import affine\n",
    "import flopy\n",
    "\n",
    "# std\n",
    "from pathlib import Path"
   ]
  },
  {
   "cell_type": "code",
   "execution_count": 2,
   "metadata": {},
   "outputs": [],
   "source": [
    "def read_array(rasterfile, masked=True,  band=1):\n",
    "    with rasterio.open(rasterfile) as src:\n",
    "        return src.read(band, masked=masked)"
   ]
  },
  {
   "cell_type": "code",
   "execution_count": 3,
   "metadata": {},
   "outputs": [],
   "source": [
    "## input\n",
    "\n",
    "# name\n",
    "name = 'test_wel_brabant'\n",
    "\n",
    "# workspace\n",
    "workspace = Path(r'.\\output\\wel')\n",
    "                 \n",
    "# data file\n",
    "sqfile = Path(r'..\\mf6\\data\\wells\\sq_list.csv')"
   ]
  },
  {
   "cell_type": "code",
   "execution_count": 4,
   "metadata": {},
   "outputs": [],
   "source": [
    "ncols=       601\n",
    "nrows=       450\n",
    "xllcorner=   60000.\n",
    "yllcorner=   322500.\n",
    "cellsize=    250.\n",
    "\n",
    "# Affine transformation is a lineair transformation that preserves parallel lines\n",
    "# To do: incorporate corner coordinates in DIS\n",
    "geotransform = (xllcorner, cellsize, 0.0, yllcorner, 0.0, cellsize)\n",
    "\n",
    "# to row,col from x,y\n",
    "fwd = affine.Affine.from_gdal(*geotransform);\n",
    "\n",
    "# to x,y from row,col\n",
    "rev = ~fwd"
   ]
  },
  {
   "cell_type": "code",
   "execution_count": 10,
   "metadata": {},
   "outputs": [],
   "source": [
    "# read sources data from csv file\n",
    "sqs = pd.read_csv(sqfile)[['id','xcoordinate','ycoordinate', 'ilay', 'q_assigned','SRCID']]\n",
    "\n",
    "# layer numbering from Q3D to 3D\n",
    "sqs['ilay'] = sqs['ilay'].apply(lambda x: x*2-1)\n",
    "\n",
    "# transform xy to row,col\n",
    "sqs['xcoordinate'],sqs['ycoordinate'] = rasterio.transform.rowcol(fwd, sqs['xcoordinate'], sqs['ycoordinate'])\n",
    "sqs['spdata'] = sqs[['ilay','xcoordinate','ycoordinate']].values.tolist()"
   ]
  },
  {
   "cell_type": "code",
   "execution_count": 6,
   "metadata": {},
   "outputs": [],
   "source": [
    "# create workspace directory\n",
    "workspace.mkdir(exist_ok=True)"
   ]
  },
  {
   "cell_type": "code",
   "execution_count": null,
   "metadata": {},
   "outputs": [],
   "source": [
    "wel = flopy.mf6.modflow.mfgwfwel.ModflowGwfwel(gwf,\n",
    "    pname='wel', \n",
    "    stress_period_data=(sqs['spdata'],sqs['q_assigned'],sqs['SRCID']))"
   ]
  }
 ],
 "metadata": {
  "kernelspec": {
   "display_name": "Python 3",
   "language": "python",
   "name": "python3"
  },
  "language_info": {
   "codemirror_mode": {
    "name": "ipython",
    "version": 3
   },
   "file_extension": ".py",
   "mimetype": "text/x-python",
   "name": "python",
   "nbconvert_exporter": "python",
   "pygments_lexer": "ipython3",
   "version": "3.6.7"
  }
 },
 "nbformat": 4,
 "nbformat_minor": 2
}
