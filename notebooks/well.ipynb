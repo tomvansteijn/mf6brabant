{
 "cells": [
  {
   "cell_type": "code",
   "execution_count": 39,
   "metadata": {},
   "outputs": [],
   "source": [
    "%matplotlib inline\n",
    "## imports\n",
    "\n",
    "# site\n",
    "from matplotlib import pyplot as plt\n",
    "import numpy as np\n",
    "import pandas as pd\n",
    "import rasterio\n",
    "import flopy\n",
    "\n",
    "# std\n",
    "from pathlib import Path"
   ]
  },
  {
   "cell_type": "code",
   "execution_count": 40,
   "metadata": {},
   "outputs": [],
   "source": [
    "def read_array(rasterfile, masked=True,  band=1):\n",
    "    with rasterio.open(rasterfile) as src:\n",
    "        return src.read(band, masked=masked)"
   ]
  },
  {
   "cell_type": "code",
   "execution_count": 41,
   "metadata": {},
   "outputs": [],
   "source": [
    "def read_3d_array(rasterfiles, stack_axis=0, masked=True):\n",
    "    arrays = []\n",
    "    for rasterfile in rasterfiles:\n",
    "        arrays.append(read_array(rasterfile, masked=masked))\n",
    "    return np.ma.stack(arrays, axis=stack_axis)"
   ]
  },
  {
   "cell_type": "code",
   "execution_count": 42,
   "metadata": {},
   "outputs": [],
   "source": [
    "## input\n",
    "\n",
    "# name\n",
    "name = 'test_wel_brabant'\n",
    "\n",
    "# workspace\n",
    "workspace = Path(r'..\\output\\wel')\n",
    "\n",
    "# grid dimensions\n",
    "nlay = 19\n",
    "nrow = 450\n",
    "ncol = 601\n",
    "delr = 250.\n",
    "delc = 250.\n",
    "                 \n",
    "# data files\n",
    "idomainfile = Path(r'..\\data\\boundary\\ibound.tif')\n",
    "topfile = r'..\\data\\topbot\\RL{ilay:d}.tif'\n",
    "botfile = r'..\\data\\topbot\\TH{ilay:d}.tif'\n",
    "sqfile = Path(r'..\\data\\wells\\sq_list.csv')"
   ]
  },
  {
   "cell_type": "code",
   "execution_count": 43,
   "metadata": {},
   "outputs": [
    {
     "name": "stdout",
     "output_type": "stream",
     "text": [
      "(450, 601)\n"
     ]
    }
   ],
   "source": [
    "# read idomain\n",
    "idomain = read_array(idomainfile).filled(0.)\n",
    "print(idomain.shape)"
   ]
  },
  {
   "cell_type": "code",
   "execution_count": 44,
   "metadata": {},
   "outputs": [
    {
     "name": "stdout",
     "output_type": "stream",
     "text": [
      "(19, 450, 601)\n"
     ]
    }
   ],
   "source": [
    "# read tops\n",
    "topfiles = (Path(topfile.format(ilay=i + 1)) for i in range(nlay))\n",
    "\n",
    "tops = read_3d_array(topfiles)\n",
    "\n",
    "# mask bad nodata values\n",
    "tops = np.ma.masked_where(tops.mask | (tops < -9990.), tops)\n",
    "\n",
    "# fill masked with zeros\n",
    "tops = tops.filled(0.)\n",
    "\n",
    "print(tops.shape)"
   ]
  },
  {
   "cell_type": "code",
   "execution_count": 45,
   "metadata": {},
   "outputs": [
    {
     "name": "stdout",
     "output_type": "stream",
     "text": [
      "(19, 450, 601)\n"
     ]
    }
   ],
   "source": [
    "# read bots\n",
    "botfiles = (Path(botfile.format(ilay=i + 1)) for i in range(nlay))\n",
    "\n",
    "bots = read_3d_array(botfiles)\n",
    "\n",
    "# mask bad nodata values\n",
    "bots = np.ma.masked_where(bots.mask | (bots < -9990.), bots)\n",
    "\n",
    "# fill masked with zeros\n",
    "bots = bots.filled(0.)\n",
    "\n",
    "print(bots.shape)"
   ]
  },
  {
   "cell_type": "code",
   "execution_count": 46,
   "metadata": {},
   "outputs": [
    {
     "name": "stdout",
     "output_type": "stream",
     "text": [
      "(37, 450, 601)\n"
     ]
    }
   ],
   "source": [
    "# convert to top, botm\n",
    "top = tops[0, :, :]\n",
    "botm = []\n",
    "for ilay in range(nlay):\n",
    "    botm.append(bots[ilay, :, :])\n",
    "    if (ilay + 1) < nlay:\n",
    "        botm.append(tops[ilay + 1, :, :])\n",
    "botm = np.ma.stack(botm)\n",
    "print(botm.shape)"
   ]
  },
  {
   "cell_type": "code",
   "execution_count": 47,
   "metadata": {},
   "outputs": [
    {
     "name": "stdout",
     "output_type": "stream",
     "text": [
      "(37, 450, 601)\n"
     ]
    }
   ],
   "source": [
    "# idomain\n",
    "idomain = np.broadcast_to(idomain, botm.shape)\n",
    "print(idomain.shape)"
   ]
  },
  {
   "cell_type": "code",
   "execution_count": 48,
   "metadata": {},
   "outputs": [
    {
     "name": "stdout",
     "output_type": "stream",
     "text": [
      "| 250.00, 0.00, 60000.00|\n",
      "| 0.00,-250.00, 435000.00|\n",
      "| 0.00, 0.00, 1.00|\n"
     ]
    }
   ],
   "source": [
    "# Affine transformation is a lineair transformation that preserves parallel lines\n",
    "# To do: incorporate corner coordinates in DIS\n",
    "# to row,col from x,y\n",
    "fwd = rasterio.transform.from_origin(xllcorner, yllcorner + nrows*cellsize, cellsize, cellsize)\n",
    "\n",
    "# to x,y from row,col\n",
    "rev = ~fwd\n",
    "\n",
    "print(fwd)"
   ]
  },
  {
   "cell_type": "code",
   "execution_count": 49,
   "metadata": {},
   "outputs": [
    {
     "name": "stdout",
     "output_type": "stream",
     "text": [
      "[0, 0, 9, 9, 9, 10, 10, 13, 13, 13]\n"
     ]
    }
   ],
   "source": [
    "# read sources data from csv file\n",
    "sqs = pd.read_csv(sqfile)\n",
    "\n",
    "# transform xy to row,col\n",
    "rows, cols = rasterio.transform.rowcol(fwd, sqs['xcoordinate'], sqs['ycoordinate'])\n",
    "\n",
    "# layer numbers & pumping rates\n",
    "layernumbers = (sqs.loc[:, 'ilay'] - 1).tolist()  # convert to zero based index\n",
    "pumping_rates = sqs.loc[:, 'q_assigned'].tolist()\n",
    "print(layernumbers[:10])"
   ]
  },
  {
   "cell_type": "code",
   "execution_count": 50,
   "metadata": {},
   "outputs": [],
   "source": [
    "# convert source data to stress period data records\n",
    "stress_period_data = {}\n",
    "stress_period_rec = []\n",
    "for lay, row, col, q in zip(layernumbers, rows, cols, pumping_rates):\n",
    "    stress_period_rec.append(((lay*2, row, col), q))\n",
    "stress_period_data[0] = stress_period_rec"
   ]
  },
  {
   "cell_type": "code",
   "execution_count": 51,
   "metadata": {},
   "outputs": [
    {
     "name": "stdout",
     "output_type": "stream",
     "text": [
      "Directory structure already exists for simulation path c:\\dev\\mf6brabant\\mf6brabant\\notebooks\\..\\output\\wel\n"
     ]
    }
   ],
   "source": [
    "# Create the Flopy simulation object\n",
    "sim = flopy.mf6.MFSimulation(\n",
    "    sim_name=name,\n",
    "    exe_name='mf6', \n",
    "    version='mf6',\n",
    "    sim_ws=str(workspace))\n",
    "\n",
    "# Create the Flopy temporal discretization object\n",
    "tdis = flopy.mf6.modflow.mftdis.ModflowTdis(sim,\n",
    "    pname='tdis',\n",
    "    time_units='DAYS',\n",
    "    nper=1, \n",
    "    perioddata=[(1.0, 1, 1.0)],\n",
    "    )\n",
    "\n",
    "# Create the Flopy groundwater flow (gwf) model object\n",
    "model_nam_file = '{}.nam'.format(name)\n",
    "gwf = flopy.mf6.ModflowGwf(sim,\n",
    "    modelname=name, \n",
    "   model_nam_file=model_nam_file,\n",
    "   )"
   ]
  },
  {
   "cell_type": "code",
   "execution_count": 52,
   "metadata": {},
   "outputs": [],
   "source": [
    "# create workspace directory\n",
    "workspace.mkdir(exist_ok=True)"
   ]
  },
  {
   "cell_type": "code",
   "execution_count": 53,
   "metadata": {},
   "outputs": [],
   "source": [
    "# initialize the DIS package\n",
    "dis = flopy.mf6.modflow.mfgwfdis.ModflowGwfdis(gwf,\n",
    "    pname='dis', nlay=(nlay*2 - 1),\n",
    "    nrow=nrow, ncol=ncol,\n",
    "    delr=delr, delc=delc,\n",
    "    top=top, botm=botm,\n",
    "    idomain=idomain,\n",
    "    )"
   ]
  },
  {
   "cell_type": "code",
   "execution_count": 54,
   "metadata": {},
   "outputs": [],
   "source": [
    "# write to package file\n",
    "dis.write()"
   ]
  },
  {
   "cell_type": "code",
   "execution_count": 55,
   "metadata": {},
   "outputs": [],
   "source": [
    "wel = flopy.mf6.modflow.mfgwfwel.ModflowGwfwel(gwf,\n",
    "    pname='wel', \n",
    "    stress_period_data=stress_period_data)"
   ]
  },
  {
   "cell_type": "code",
   "execution_count": 56,
   "metadata": {},
   "outputs": [
    {
     "name": "stdout",
     "output_type": "stream",
     "text": [
      "INFORMATION: maxbound in ('gwf6', 'wel', 'dimensions') changed to 3779 based on size of stress_period_data\n"
     ]
    }
   ],
   "source": [
    "# write to package file\n",
    "wel.write()"
   ]
  },
  {
   "cell_type": "code",
   "execution_count": null,
   "metadata": {},
   "outputs": [],
   "source": []
  }
 ],
 "metadata": {
  "kernelspec": {
   "display_name": "Python 3",
   "language": "python",
   "name": "python3"
  },
  "language_info": {
   "codemirror_mode": {
    "name": "ipython",
    "version": 3
   },
   "file_extension": ".py",
   "mimetype": "text/x-python",
   "name": "python",
   "nbconvert_exporter": "python",
   "pygments_lexer": "ipython3",
   "version": "3.6.5"
  }
 },
 "nbformat": 4,
 "nbformat_minor": 2
}
