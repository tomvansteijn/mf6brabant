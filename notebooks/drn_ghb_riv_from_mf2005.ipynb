{
 "cells": [
  {
   "cell_type": "code",
   "execution_count": null,
   "metadata": {},
   "outputs": [],
   "source": [
    "import flopy\n",
    "\n",
    "from pathlib import Path"
   ]
  },
  {
   "cell_type": "code",
   "execution_count": null,
   "metadata": {},
   "outputs": [],
   "source": [
    "# read modflow 2005 packages\n",
    "namefile = Path(r'..\\data\\mf2005\\triwaco.nam')\n",
    "model2005 = flopy.modflow.mf.Modflow.load(namefile, load_only=['DIS', 'BAS6', 'DRN', 'GHB', 'RIV'])\n",
    "\n",
    "# get packages individualy\n",
    "drn2005 = model2005.get_package('DRN')\n",
    "ghb2005 = model2005.get_package('GHB')\n",
    "riv2005 = model2005.get_package('RIV')\n",
    "\n",
    "# write to csv\n",
    "drn2005.stress_period_data.get_dataframe().to_csv(r'..\\data\\mf2005\\drn_data.csv')\n",
    "ghb2005.stress_period_data.get_dataframe().to_csv(r'..\\data\\mf2005\\ghb_data.csv')\n",
    "riv2005.stress_period_data.get_dataframe().to_csv(r'..\\data\\mf2005\\riv_data.csv')"
   ]
  },
  {
   "cell_type": "code",
   "execution_count": null,
   "metadata": {},
   "outputs": [],
   "source": []
  }
 ],
 "metadata": {
  "kernelspec": {
   "display_name": "Python 3",
   "language": "python",
   "name": "python3"
  },
  "language_info": {
   "codemirror_mode": {
    "name": "ipython",
    "version": 3
   },
   "file_extension": ".py",
   "mimetype": "text/x-python",
   "name": "python",
   "nbconvert_exporter": "python",
   "pygments_lexer": "ipython3",
   "version": "3.6.5"
  }
 },
 "nbformat": 4,
 "nbformat_minor": 2
}
